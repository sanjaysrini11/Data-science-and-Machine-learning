{
 "cells": [
  {
   "cell_type": "markdown",
   "metadata": {},
   "source": [
    "# Problem - 2"
   ]
  },
  {
   "cell_type": "code",
   "execution_count": null,
   "metadata": {},
   "outputs": [],
   "source": [
    "import numpy as np\n",
    "import matplotlib.pyplot as plt\n",
    "import pandas as pd\n",
    "import seaborn as sns # for making plots with seaborn\n",
    "color = sns.color_palette()\n",
    "import sklearn.metrics as metrics\n",
    "\n",
    "import warnings\n",
    "warnings.filterwarnings(\"ignore\")"
   ]
  },
  {
   "cell_type": "code",
   "execution_count": null,
   "metadata": {},
   "outputs": [],
   "source": [
    "df = pd.read_csv('Market+Risk+Dataset.csv')\n",
    "#Glimpse of Data\n",
    "df.head()"
   ]
  },
  {
   "cell_type": "code",
   "execution_count": null,
   "metadata": {},
   "outputs": [],
   "source": [
    "df.columns = df.columns.str.replace(' ', '_')"
   ]
  },
  {
   "cell_type": "code",
   "execution_count": null,
   "metadata": {},
   "outputs": [],
   "source": [
    "df.head()"
   ]
  },
  {
   "cell_type": "code",
   "execution_count": null,
   "metadata": {},
   "outputs": [],
   "source": [
    "df.shape"
   ]
  },
  {
   "cell_type": "code",
   "execution_count": null,
   "metadata": {},
   "outputs": [],
   "source": [
    "df.info()"
   ]
  },
  {
   "cell_type": "code",
   "execution_count": null,
   "metadata": {},
   "outputs": [],
   "source": [
    "df.describe(include='all')"
   ]
  },
  {
   "cell_type": "code",
   "execution_count": null,
   "metadata": {},
   "outputs": [],
   "source": [
    "print('The number of rows (observations) is',df.shape[0],'\\n''The number of columns (variables) is',df.shape[1])"
   ]
  },
  {
   "cell_type": "code",
   "execution_count": null,
   "metadata": {},
   "outputs": [],
   "source": [
    "df1 = df.columns.drop('Date','dates')\n",
    "df1"
   ]
  },
  {
   "cell_type": "markdown",
   "metadata": {},
   "source": [
    "### 2.1 Draw Stock Price Graph(Stock Price vs Time) for any 2 given stocks with inference"
   ]
  },
  {
   "cell_type": "code",
   "execution_count": null,
   "metadata": {
    "scrolled": false
   },
   "outputs": [],
   "source": [
    "df['dates'] = [pd.to_datetime(d) for d in df['Date']]\n",
    "for company in df1:\n",
    "    plt.figure(figsize = (7,5))\n",
    "    plt.scatter(df['dates'], df[company], edgecolors='b', color = 'lightblue')\n",
    "    plt.xlabel('Year')\n",
    "    plt.ylabel(company)\n",
    "    plt.title(company+' over the years')\n",
    "    plt.show()"
   ]
  },
  {
   "cell_type": "markdown",
   "metadata": {},
   "source": [
    "##### $Inference$  $  from$  $  the$  $  above$  $  stock$  $  Graph$ \n",
    "### Infosys stock:\n",
    "\n",
    "The stock price of the increases from 2014-21. Sudden dip in the stock price is due to recession(layoff of the employee) and brokerage houses lowered margin estimates this leads to slow growth.\n",
    "\n",
    "### Idea_vodafone stock:\n",
    "\n",
    "The stock price of the idea_vodafone started falling when Jio has been launched in 2015.The plans where cheaper and good coverage of network leads to fall of the stock price of the idea_vodafone shares in the market.\n",
    "\n",
    "### Jet Airways stock:\n",
    "\n",
    "The fall of jet airways share price, The company was ceased in 2019 due to financial crunch in the market. This leads to fall of the share price in the market."
   ]
  },
  {
   "cell_type": "markdown",
   "metadata": {},
   "source": [
    "### 2.2 Calculate Returns for all stocks with inference"
   ]
  },
  {
   "cell_type": "code",
   "execution_count": null,
   "metadata": {},
   "outputs": [],
   "source": [
    "stock_returns = np.log(df.drop(['Date','dates'],axis=1)).diff(axis = 0, periods = 1) \n",
    "stock_returns.head(10)"
   ]
  },
  {
   "cell_type": "code",
   "execution_count": null,
   "metadata": {},
   "outputs": [],
   "source": [
    "stock_returns.shape"
   ]
  },
  {
   "cell_type": "markdown",
   "metadata": {},
   "source": [
    "##### Return calculation Formula:\n",
    "\n",
    "### R$t$ =  (P$t$ - P $(t-1)$) / P $(t-1)$\n",
    "\n",
    "Inference: To return are calculated by the difference of new price from old price by old price. From this we can get the change in stock return can be identified."
   ]
  },
  {
   "cell_type": "markdown",
   "metadata": {},
   "source": [
    "### 2.3 Calculate Stock Means and Standard Deviation for all stocks with inference"
   ]
  },
  {
   "cell_type": "code",
   "execution_count": null,
   "metadata": {},
   "outputs": [],
   "source": [
    "stock_means = stock_returns.mean(axis = 0)\n",
    "stock_means"
   ]
  },
  {
   "cell_type": "code",
   "execution_count": null,
   "metadata": {},
   "outputs": [],
   "source": [
    "stock_sd = stock_returns.std(axis = 0)\n",
    "stock_sd"
   ]
  },
  {
   "cell_type": "code",
   "execution_count": null,
   "metadata": {},
   "outputs": [],
   "source": [
    "df_stock = pd.DataFrame({'Average':stock_means, 'Volatility': stock_sd})\n",
    "df_stock"
   ]
  },
  {
   "cell_type": "markdown",
   "metadata": {},
   "source": [
    "Average and standard deviation of the stocks are calculated."
   ]
  },
  {
   "cell_type": "markdown",
   "metadata": {},
   "source": [
    "### 2.4 Draw a plot of Stock Means vs Standard Deviation and state your inference"
   ]
  },
  {
   "cell_type": "code",
   "execution_count": null,
   "metadata": {},
   "outputs": [],
   "source": [
    "plt.scatter(stock_sd, stock_means, edgecolors='g')\n",
    "plt.ylabel('Stock average')\n",
    "plt.xlabel('Standard deviation')\n",
    "plt.show()"
   ]
  },
  {
   "cell_type": "code",
   "execution_count": null,
   "metadata": {},
   "outputs": [],
   "source": [
    "df_stock.sort_values(by = 'Volatility')"
   ]
  },
  {
   "cell_type": "code",
   "execution_count": null,
   "metadata": {},
   "outputs": [],
   "source": [
    "df_stock[df_stock['Average'] > 0].sort_values(by = 'Volatility')"
   ]
  },
  {
   "cell_type": "markdown",
   "metadata": {},
   "source": [
    "#### Taking the stocks which are having the stock average greater than 0.\n",
    "#### These 4 stocks are having higher average and lower volatility with high return with lower risk.\n",
    "#### 4 stocks are having higher returns in the different sector.\n",
    "#### Ones with higher return for a comparative or lower risk are considered better"
   ]
  },
  {
   "cell_type": "markdown",
   "metadata": {},
   "source": [
    "### 2.5 Conclusion and Recommendations"
   ]
  },
  {
   "cell_type": "markdown",
   "metadata": {},
   "source": [
    "From the above dataframe, \n",
    "\n",
    "Stock with a lower mean & higher standard deviation do not play a role in a portfolio that has competing stock with more returns & less risk. Thus for the data we have here, we are only left few stocks:\n",
    "\n",
    "Ones with higher return for a comparative or lower risk are considered better\n",
    "\n",
    "From this we can infer that Investing in the Infosys can get higher return in the future with low risk and investment needs to be done for long term. Short term investment can lead to lower return or null return.\n"
   ]
  }
 ],
 "metadata": {
  "kernelspec": {
   "display_name": "Python 3",
   "language": "python",
   "name": "python3"
  },
  "language_info": {
   "codemirror_mode": {
    "name": "ipython",
    "version": 3
   },
   "file_extension": ".py",
   "mimetype": "text/x-python",
   "name": "python",
   "nbconvert_exporter": "python",
   "pygments_lexer": "ipython3",
   "version": "3.7.3"
  }
 },
 "nbformat": 4,
 "nbformat_minor": 2
}
