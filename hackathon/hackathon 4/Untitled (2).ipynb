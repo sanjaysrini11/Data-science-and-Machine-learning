{
 "cells": [
  {
   "cell_type": "code",
   "execution_count": 1,
   "metadata": {
    "colab": {
     "base_uri": "https://localhost:8080/"
    },
    "id": "Zd1sB82m_SG7",
    "outputId": "834a2942-4446-4c37-82f9-1664e5a41f1b"
   },
   "outputs": [],
   "source": [
    "from sklearn.datasets import load_boston\n",
    "import pandas as pd\n",
    "import numpy as np\n",
    "import seaborn as sns\n",
    "import matplotlib.pyplot as plt\n",
    "import statsmodels.api as sm\n",
    "from sklearn.model_selection import train_test_split,GridSearchCV\n",
    "from sklearn.linear_model import LinearRegression\n",
    "from sklearn import metrics\n",
    "from sklearn.metrics import mean_squared_error,roc_auc_score,roc_curve,classification_report,confusion_matrix,plot_confusion_matrix\n",
    "from statsmodels.stats.outliers_influence import variance_inflation_factor\n",
    "import math\n",
    "plt.rc(\"font\", size=14)\n",
    "import seaborn as sns\n",
    "sns.set(style=\"white\")\n",
    "sns.set(style=\"whitegrid\", color_codes=True)\n",
    "\n",
    "from sklearn.discriminant_analysis import LinearDiscriminantAnalysis\n",
    "\n",
    "# Basic packages\n",
    "from scipy import stats; from scipy.stats import zscore, norm, randint\n",
    "import matplotlib.style as style; style.use('fivethirtyeight')\n",
    "#import plotly.express as px\n",
    "%matplotlib inline\n",
    "\n",
    "# Impute and Encode\n",
    "from sklearn.preprocessing import LabelEncoder\n",
    "#from impute.imputation.cs import mice\n",
    "\n",
    "# Modelling - LR, KNN, NB, Metrics\n",
    "from sklearn.metrics import classification_report, confusion_matrix, accuracy_score, f1_score, recall_score, precision_score\n",
    "from sklearn.ensemble import GradientBoostingClassifier, RandomForestClassifier, BaggingClassifier, VotingClassifier\n",
    "from sklearn.model_selection import train_test_split, GridSearchCV, StratifiedKFold, cross_val_score\n",
    "from sklearn.linear_model import LogisticRegression\n",
    "from sklearn.neighbors import KNeighborsClassifier\n",
    "from sklearn.ensemble import AdaBoostClassifier\n",
    "from sklearn.tree import DecisionTreeClassifier\n",
    "from sklearn.naive_bayes import GaussianNB\n",
    "from sklearn.dummy import DummyClassifier\n",
    "from sklearn.metrics import make_scorer\n",
    "from sklearn.metrics import roc_auc_score,roc_curve\n",
    "\n",
    "# Oversampling\n",
    "from imblearn.over_sampling import SMOTE\n",
    "\n",
    "# Suppress warnings\n",
    "import warnings; warnings.filterwarnings('ignore')\n",
    "\n",
    "# Visualize Tree\n",
    "from sklearn.tree import export_graphviz\n",
    "from IPython.display import Image\n",
    "from os import system\n",
    "\n",
    "# Display settings\n",
    "pd.options.display.max_rows = 10000\n",
    "pd.options.display.max_columns = 10000\n"
   ]
  },
  {
   "cell_type": "code",
   "execution_count": 2,
   "metadata": {
    "colab": {
     "base_uri": "https://localhost:8080/",
     "height": 270
    },
    "id": "VFMuJMm__SHA",
    "outputId": "2584391f-4ac7-4f98-dbef-83c8136a8d19"
   },
   "outputs": [
    {
     "data": {
      "text/html": [
       "<div>\n",
       "<style scoped>\n",
       "    .dataframe tbody tr th:only-of-type {\n",
       "        vertical-align: middle;\n",
       "    }\n",
       "\n",
       "    .dataframe tbody tr th {\n",
       "        vertical-align: top;\n",
       "    }\n",
       "\n",
       "    .dataframe thead th {\n",
       "        text-align: right;\n",
       "    }\n",
       "</style>\n",
       "<table border=\"1\" class=\"dataframe\">\n",
       "  <thead>\n",
       "    <tr style=\"text-align: right;\">\n",
       "      <th></th>\n",
       "      <th>ID</th>\n",
       "      <th>Compensation</th>\n",
       "      <th>Vehicle_Status</th>\n",
       "      <th>Loan_amt</th>\n",
       "      <th>Annuity_amt</th>\n",
       "      <th>density_Ind</th>\n",
       "      <th>Job_Type</th>\n",
       "      <th>Default_hist</th>\n",
       "      <th>Prop_List</th>\n",
       "      <th>Home_Appliances</th>\n",
       "      <th>Region_Type</th>\n",
       "      <th>Credit_Inq</th>\n",
       "      <th>Education_det</th>\n",
       "      <th>Marital_Stat</th>\n",
       "      <th>Gen</th>\n",
       "      <th>Credit_Lnks</th>\n",
       "      <th>Experience</th>\n",
       "      <th>Income_Alt</th>\n",
       "      <th>Day_Process</th>\n",
       "      <th>Ph.No</th>\n",
       "      <th>Type_Loan</th>\n",
       "      <th>Dependents</th>\n",
       "      <th>Company_Rating</th>\n",
       "      <th>Region</th>\n",
       "      <th>Age</th>\n",
       "      <th>hour_Process</th>\n",
       "      <th>Addr_permanent</th>\n",
       "      <th>Permanent_Addr_tag</th>\n",
       "      <th>c1_rated</th>\n",
       "      <th>c2_rated</th>\n",
       "      <th>Contact_age</th>\n",
       "      <th>Product_bought</th>\n",
       "      <th>Default</th>\n",
       "    </tr>\n",
       "  </thead>\n",
       "  <tbody>\n",
       "    <tr>\n",
       "      <th>0</th>\n",
       "      <td>540071</td>\n",
       "      <td>801850.0</td>\n",
       "      <td>Y</td>\n",
       "      <td>658040.0</td>\n",
       "      <td>13816.52</td>\n",
       "      <td>0.0304</td>\n",
       "      <td>IT</td>\n",
       "      <td>ndf</td>\n",
       "      <td>Morethan_One</td>\n",
       "      <td>NaN</td>\n",
       "      <td>Metro</td>\n",
       "      <td>1</td>\n",
       "      <td>Grad</td>\n",
       "      <td>Married</td>\n",
       "      <td>F</td>\n",
       "      <td>1_to_3</td>\n",
       "      <td>0.9</td>\n",
       "      <td>Not_Specified</td>\n",
       "      <td>SAT</td>\n",
       "      <td>Yes</td>\n",
       "      <td>CLoan</td>\n",
       "      <td>3.0</td>\n",
       "      <td>2.0</td>\n",
       "      <td>East</td>\n",
       "      <td>46.0</td>\n",
       "      <td>10.0</td>\n",
       "      <td>Yes</td>\n",
       "      <td>No</td>\n",
       "      <td>0.077</td>\n",
       "      <td>0.077</td>\n",
       "      <td>18.0</td>\n",
       "      <td>2.0</td>\n",
       "      <td>1.0</td>\n",
       "    </tr>\n",
       "    <tr>\n",
       "      <th>1</th>\n",
       "      <td>511643</td>\n",
       "      <td>884222.0</td>\n",
       "      <td>N</td>\n",
       "      <td>198075.0</td>\n",
       "      <td>11173.06</td>\n",
       "      <td>0.0194</td>\n",
       "      <td>IT</td>\n",
       "      <td>ndf</td>\n",
       "      <td>Morethan_One</td>\n",
       "      <td>1.0</td>\n",
       "      <td>Metro</td>\n",
       "      <td>2</td>\n",
       "      <td>Grad</td>\n",
       "      <td>Married</td>\n",
       "      <td>M</td>\n",
       "      <td>1_to_3</td>\n",
       "      <td>3.0</td>\n",
       "      <td>Not_Specified</td>\n",
       "      <td>wed</td>\n",
       "      <td>Yes</td>\n",
       "      <td>CLoan</td>\n",
       "      <td>3.0</td>\n",
       "      <td>1.0</td>\n",
       "      <td>North</td>\n",
       "      <td>46.0</td>\n",
       "      <td>12.0</td>\n",
       "      <td>Yes</td>\n",
       "      <td>Yes</td>\n",
       "      <td>0.184</td>\n",
       "      <td>0.184</td>\n",
       "      <td>306.0</td>\n",
       "      <td>4.0</td>\n",
       "      <td>0.0</td>\n",
       "    </tr>\n",
       "    <tr>\n",
       "      <th>2</th>\n",
       "      <td>506688</td>\n",
       "      <td>284120.0</td>\n",
       "      <td>N</td>\n",
       "      <td>101056.0</td>\n",
       "      <td>8390.40</td>\n",
       "      <td>0.0118</td>\n",
       "      <td>Govt.</td>\n",
       "      <td>ndf</td>\n",
       "      <td>One</td>\n",
       "      <td>4.0</td>\n",
       "      <td>Metro</td>\n",
       "      <td>3</td>\n",
       "      <td>Other</td>\n",
       "      <td>Married</td>\n",
       "      <td>M</td>\n",
       "      <td>1_to_3</td>\n",
       "      <td>NaN</td>\n",
       "      <td>Not_Specified</td>\n",
       "      <td>mon</td>\n",
       "      <td>Yes</td>\n",
       "      <td>CLoan</td>\n",
       "      <td>2.0</td>\n",
       "      <td>3.0</td>\n",
       "      <td>North</td>\n",
       "      <td>57.0</td>\n",
       "      <td>5.0</td>\n",
       "      <td>Yes</td>\n",
       "      <td>Yes</td>\n",
       "      <td>0.538</td>\n",
       "      <td>0.538</td>\n",
       "      <td>281.0</td>\n",
       "      <td>4.0</td>\n",
       "      <td>0.0</td>\n",
       "    </tr>\n",
       "    <tr>\n",
       "      <th>3</th>\n",
       "      <td>499360</td>\n",
       "      <td>341874.0</td>\n",
       "      <td>N</td>\n",
       "      <td>179008.0</td>\n",
       "      <td>7184.13</td>\n",
       "      <td>0.0373</td>\n",
       "      <td>Non-IT</td>\n",
       "      <td>df</td>\n",
       "      <td>None</td>\n",
       "      <td>2.0</td>\n",
       "      <td>Metro</td>\n",
       "      <td>1</td>\n",
       "      <td>Grad</td>\n",
       "      <td>Married</td>\n",
       "      <td>M</td>\n",
       "      <td>1_to_3</td>\n",
       "      <td>4.7</td>\n",
       "      <td>Not_Specified</td>\n",
       "      <td>wed</td>\n",
       "      <td>Yes</td>\n",
       "      <td>RLoan</td>\n",
       "      <td>4.0</td>\n",
       "      <td>2.0</td>\n",
       "      <td>South</td>\n",
       "      <td>39.0</td>\n",
       "      <td>12.0</td>\n",
       "      <td>Yes</td>\n",
       "      <td>Yes</td>\n",
       "      <td>NaN</td>\n",
       "      <td>0.561</td>\n",
       "      <td>20.0</td>\n",
       "      <td>4.0</td>\n",
       "      <td>0.0</td>\n",
       "    </tr>\n",
       "    <tr>\n",
       "      <th>4</th>\n",
       "      <td>438350</td>\n",
       "      <td>1259895.0</td>\n",
       "      <td>Y</td>\n",
       "      <td>573715.0</td>\n",
       "      <td>13212.77</td>\n",
       "      <td>0.0138</td>\n",
       "      <td>Non-IT</td>\n",
       "      <td>ndf</td>\n",
       "      <td>Morethan_One</td>\n",
       "      <td>1.0</td>\n",
       "      <td>Rural</td>\n",
       "      <td>2</td>\n",
       "      <td>Grad</td>\n",
       "      <td>Married</td>\n",
       "      <td>F</td>\n",
       "      <td>4_to_6</td>\n",
       "      <td>6.9</td>\n",
       "      <td>Y</td>\n",
       "      <td>Sun</td>\n",
       "      <td>Yes</td>\n",
       "      <td>CLoan</td>\n",
       "      <td>3.0</td>\n",
       "      <td>1.0</td>\n",
       "      <td>North</td>\n",
       "      <td>32.0</td>\n",
       "      <td>16.0</td>\n",
       "      <td>Yes</td>\n",
       "      <td>Yes</td>\n",
       "      <td>NaN</td>\n",
       "      <td>0.200</td>\n",
       "      <td>2339.0</td>\n",
       "      <td>6.0</td>\n",
       "      <td>0.0</td>\n",
       "    </tr>\n",
       "  </tbody>\n",
       "</table>\n",
       "</div>"
      ],
      "text/plain": [
       "       ID  Compensation Vehicle_Status  Loan_amt  Annuity_amt  density_Ind  \\\n",
       "0  540071      801850.0              Y  658040.0     13816.52       0.0304   \n",
       "1  511643      884222.0              N  198075.0     11173.06       0.0194   \n",
       "2  506688      284120.0              N  101056.0      8390.40       0.0118   \n",
       "3  499360      341874.0              N  179008.0      7184.13       0.0373   \n",
       "4  438350     1259895.0              Y  573715.0     13212.77       0.0138   \n",
       "\n",
       "  Job_Type Default_hist     Prop_List  Home_Appliances Region_Type Credit_Inq  \\\n",
       "0       IT          ndf  Morethan_One              NaN       Metro          1   \n",
       "1       IT          ndf  Morethan_One              1.0       Metro          2   \n",
       "2    Govt.          ndf           One              4.0       Metro          3   \n",
       "3   Non-IT           df          None              2.0       Metro          1   \n",
       "4   Non-IT          ndf  Morethan_One              1.0       Rural          2   \n",
       "\n",
       "  Education_det Marital_Stat Gen Credit_Lnks  Experience     Income_Alt  \\\n",
       "0          Grad      Married   F      1_to_3         0.9  Not_Specified   \n",
       "1          Grad      Married   M      1_to_3         3.0  Not_Specified   \n",
       "2         Other      Married   M      1_to_3         NaN  Not_Specified   \n",
       "3          Grad      Married   M      1_to_3         4.7  Not_Specified   \n",
       "4          Grad      Married   F      4_to_6         6.9              Y   \n",
       "\n",
       "  Day_Process Ph.No Type_Loan  Dependents  Company_Rating Region   Age  \\\n",
       "0         SAT   Yes     CLoan         3.0             2.0   East  46.0   \n",
       "1         wed   Yes     CLoan         3.0             1.0  North  46.0   \n",
       "2         mon   Yes     CLoan         2.0             3.0  North  57.0   \n",
       "3         wed   Yes     RLoan         4.0             2.0  South  39.0   \n",
       "4         Sun   Yes     CLoan         3.0             1.0  North  32.0   \n",
       "\n",
       "   hour_Process Addr_permanent Permanent_Addr_tag  c1_rated  c2_rated  \\\n",
       "0          10.0            Yes                 No     0.077     0.077   \n",
       "1          12.0            Yes                Yes     0.184     0.184   \n",
       "2           5.0            Yes                Yes     0.538     0.538   \n",
       "3          12.0            Yes                Yes       NaN     0.561   \n",
       "4          16.0            Yes                Yes       NaN     0.200   \n",
       "\n",
       "   Contact_age  Product_bought  Default  \n",
       "0         18.0             2.0      1.0  \n",
       "1        306.0             4.0      0.0  \n",
       "2        281.0             4.0      0.0  \n",
       "3         20.0             4.0      0.0  \n",
       "4       2339.0             6.0      0.0  "
      ]
     },
     "execution_count": 2,
     "metadata": {},
     "output_type": "execute_result"
    }
   ],
   "source": [
    "\n",
    "\n",
    "# from pydrive.auth import GoogleAuth\n",
    "# from pydrive.drive import GoogleDrive\n",
    "# from google.colab import auth\n",
    "# from oauth2client.client import GoogleCredentials\n",
    " \n",
    " \n",
    "# # Authenticate and create the PyDrive client.\n",
    "# auth.authenticate_user()\n",
    "# gauth = GoogleAuth()\n",
    "# gauth.credentials = GoogleCredentials.get_application_default()\n",
    "# drive = GoogleDrive(gauth)\n",
    "# link = 'https://drive.google.com/file/d/1D4z13rFbwe6ch0WwEiCO2dd5a18avot6/view?usp=sharing'\n",
    "# link2 = 'https://drive.google.com/file/d/1qLbITeJToHCKtzG2HnvSZUn5v3LeW7lg/view?usp=sharing'\n",
    " \n",
    "# import pandas as pd\n",
    " \n",
    "# # to get the id part of the file\n",
    "# id = link.split(\"/\")[-2]\n",
    "# id2 = link2.split(\"/\")[-2]\n",
    " \n",
    "# downloaded = drive.CreateFile({'id':id})\n",
    "# downloaded.GetContentFile('Train_Set_TVS.csv') \n",
    "df_train = pd.read_csv(\"Train_Set_TVS.csv\")\n",
    "df_train.head()"
   ]
  },
  {
   "cell_type": "code",
   "execution_count": 3,
   "metadata": {
    "colab": {
     "base_uri": "https://localhost:8080/",
     "height": 270
    },
    "id": "9MfwqBma_SHC",
    "outputId": "6348c7e2-02b1-4908-d900-4b2a2ce4386e"
   },
   "outputs": [
    {
     "data": {
      "text/html": [
       "<div>\n",
       "<style scoped>\n",
       "    .dataframe tbody tr th:only-of-type {\n",
       "        vertical-align: middle;\n",
       "    }\n",
       "\n",
       "    .dataframe tbody tr th {\n",
       "        vertical-align: top;\n",
       "    }\n",
       "\n",
       "    .dataframe thead th {\n",
       "        text-align: right;\n",
       "    }\n",
       "</style>\n",
       "<table border=\"1\" class=\"dataframe\">\n",
       "  <thead>\n",
       "    <tr style=\"text-align: right;\">\n",
       "      <th></th>\n",
       "      <th>ID</th>\n",
       "      <th>Compensation</th>\n",
       "      <th>Vehicle_Status</th>\n",
       "      <th>Loan_amt</th>\n",
       "      <th>Annuity_amt</th>\n",
       "      <th>density_Ind</th>\n",
       "      <th>Job_Type</th>\n",
       "      <th>Default_hist</th>\n",
       "      <th>Prop_List</th>\n",
       "      <th>Home_Appliances</th>\n",
       "      <th>Region_Type</th>\n",
       "      <th>Credit_Inq</th>\n",
       "      <th>Education_det</th>\n",
       "      <th>Marital_Stat</th>\n",
       "      <th>Gen</th>\n",
       "      <th>Credit_Lnks</th>\n",
       "      <th>Experience</th>\n",
       "      <th>Income_Alt</th>\n",
       "      <th>Day_Process</th>\n",
       "      <th>Ph.No</th>\n",
       "      <th>Type_Loan</th>\n",
       "      <th>Dependents</th>\n",
       "      <th>Company_Rating</th>\n",
       "      <th>Region</th>\n",
       "      <th>Age</th>\n",
       "      <th>hour_Process</th>\n",
       "      <th>Addr_permanent</th>\n",
       "      <th>Permanent_Addr_tag</th>\n",
       "      <th>c1_rated</th>\n",
       "      <th>c2_rated</th>\n",
       "      <th>Contact_age</th>\n",
       "      <th>Product_bought</th>\n",
       "    </tr>\n",
       "  </thead>\n",
       "  <tbody>\n",
       "    <tr>\n",
       "      <th>0</th>\n",
       "      <td>487410</td>\n",
       "      <td>653106.0</td>\n",
       "      <td>Y</td>\n",
       "      <td>809400.00</td>\n",
       "      <td>9145.51</td>\n",
       "      <td>0.0015</td>\n",
       "      <td>Govt.</td>\n",
       "      <td>ndf</td>\n",
       "      <td>Morethan_One</td>\n",
       "      <td>1.0</td>\n",
       "      <td>Metro</td>\n",
       "      <td>1</td>\n",
       "      <td>Grad</td>\n",
       "      <td>Married</td>\n",
       "      <td>M</td>\n",
       "      <td>1_to_3</td>\n",
       "      <td>5.4</td>\n",
       "      <td>Not_Specified</td>\n",
       "      <td>thur</td>\n",
       "      <td>Yes</td>\n",
       "      <td>CLoan</td>\n",
       "      <td>3.0</td>\n",
       "      <td>2.0</td>\n",
       "      <td>North</td>\n",
       "      <td>39.0</td>\n",
       "      <td>11.0</td>\n",
       "      <td>Yes</td>\n",
       "      <td>Yes</td>\n",
       "      <td>0.349</td>\n",
       "      <td>0.349</td>\n",
       "      <td>3133.0</td>\n",
       "      <td>2.0</td>\n",
       "    </tr>\n",
       "    <tr>\n",
       "      <th>1</th>\n",
       "      <td>533258</td>\n",
       "      <td>434150.0</td>\n",
       "      <td>N</td>\n",
       "      <td>72618.75</td>\n",
       "      <td>7683.23</td>\n",
       "      <td>0.0332</td>\n",
       "      <td>Govt.</td>\n",
       "      <td>ndf</td>\n",
       "      <td>One</td>\n",
       "      <td>4.0</td>\n",
       "      <td>Metro</td>\n",
       "      <td>1</td>\n",
       "      <td>Grad</td>\n",
       "      <td>Married</td>\n",
       "      <td>M</td>\n",
       "      <td>1_to_3</td>\n",
       "      <td>2.3</td>\n",
       "      <td>Y</td>\n",
       "      <td>wed</td>\n",
       "      <td>No</td>\n",
       "      <td>CLoan</td>\n",
       "      <td>2.0</td>\n",
       "      <td>3.0</td>\n",
       "      <td>Central</td>\n",
       "      <td>46.0</td>\n",
       "      <td>13.0</td>\n",
       "      <td>Yes</td>\n",
       "      <td>Yes</td>\n",
       "      <td>0.237</td>\n",
       "      <td>0.237</td>\n",
       "      <td>1730.0</td>\n",
       "      <td>5.0</td>\n",
       "    </tr>\n",
       "    <tr>\n",
       "      <th>2</th>\n",
       "      <td>581926</td>\n",
       "      <td>489060.0</td>\n",
       "      <td>N</td>\n",
       "      <td>267255.80</td>\n",
       "      <td>9032.85</td>\n",
       "      <td>0.0316</td>\n",
       "      <td>IT</td>\n",
       "      <td>ndf</td>\n",
       "      <td>Morethan_One</td>\n",
       "      <td>NaN</td>\n",
       "      <td>Rural</td>\n",
       "      <td>1</td>\n",
       "      <td>Grad</td>\n",
       "      <td>Married</td>\n",
       "      <td>M</td>\n",
       "      <td>1_to_3</td>\n",
       "      <td>11.0</td>\n",
       "      <td>Y</td>\n",
       "      <td>thur</td>\n",
       "      <td>No</td>\n",
       "      <td>CLoan</td>\n",
       "      <td>3.0</td>\n",
       "      <td>2.0</td>\n",
       "      <td>South</td>\n",
       "      <td>33.0</td>\n",
       "      <td>15.0</td>\n",
       "      <td>Yes</td>\n",
       "      <td>Yes</td>\n",
       "      <td>0.111</td>\n",
       "      <td>0.111</td>\n",
       "      <td>759.0</td>\n",
       "      <td>4.0</td>\n",
       "    </tr>\n",
       "    <tr>\n",
       "      <th>3</th>\n",
       "      <td>486301</td>\n",
       "      <td>957294.0</td>\n",
       "      <td>N</td>\n",
       "      <td>623600.00</td>\n",
       "      <td>12838.25</td>\n",
       "      <td>0.0320</td>\n",
       "      <td>IT</td>\n",
       "      <td>ndf</td>\n",
       "      <td>One</td>\n",
       "      <td>4.0</td>\n",
       "      <td>Metro</td>\n",
       "      <td>1</td>\n",
       "      <td>Grad</td>\n",
       "      <td>Married</td>\n",
       "      <td>M</td>\n",
       "      <td>1_to_3</td>\n",
       "      <td>9.7</td>\n",
       "      <td>Y</td>\n",
       "      <td>Tue</td>\n",
       "      <td>Yes</td>\n",
       "      <td>CLoan</td>\n",
       "      <td>2.0</td>\n",
       "      <td>2.0</td>\n",
       "      <td>East</td>\n",
       "      <td>48.0</td>\n",
       "      <td>12.0</td>\n",
       "      <td>Yes</td>\n",
       "      <td>Yes</td>\n",
       "      <td>0.323</td>\n",
       "      <td>0.323</td>\n",
       "      <td>609.0</td>\n",
       "      <td>4.0</td>\n",
       "    </tr>\n",
       "    <tr>\n",
       "      <th>4</th>\n",
       "      <td>580822</td>\n",
       "      <td>1333739.0</td>\n",
       "      <td>N</td>\n",
       "      <td>529520.00</td>\n",
       "      <td>11799.09</td>\n",
       "      <td>0.0073</td>\n",
       "      <td>Non-IT</td>\n",
       "      <td>ndf</td>\n",
       "      <td>One</td>\n",
       "      <td>4.0</td>\n",
       "      <td>Metro</td>\n",
       "      <td>3</td>\n",
       "      <td>P_Grad</td>\n",
       "      <td>Married</td>\n",
       "      <td>F</td>\n",
       "      <td>1_to_3</td>\n",
       "      <td>NaN</td>\n",
       "      <td>Y</td>\n",
       "      <td>wed</td>\n",
       "      <td>Yes</td>\n",
       "      <td>RLoan</td>\n",
       "      <td>2.0</td>\n",
       "      <td>3.0</td>\n",
       "      <td>North</td>\n",
       "      <td>53.0</td>\n",
       "      <td>7.0</td>\n",
       "      <td>Yes</td>\n",
       "      <td>Yes</td>\n",
       "      <td>0.940</td>\n",
       "      <td>0.940</td>\n",
       "      <td>1222.0</td>\n",
       "      <td>1.0</td>\n",
       "    </tr>\n",
       "  </tbody>\n",
       "</table>\n",
       "</div>"
      ],
      "text/plain": [
       "       ID  Compensation Vehicle_Status   Loan_amt  Annuity_amt  density_Ind  \\\n",
       "0  487410      653106.0              Y  809400.00      9145.51       0.0015   \n",
       "1  533258      434150.0              N   72618.75      7683.23       0.0332   \n",
       "2  581926      489060.0              N  267255.80      9032.85       0.0316   \n",
       "3  486301      957294.0              N  623600.00     12838.25       0.0320   \n",
       "4  580822     1333739.0              N  529520.00     11799.09       0.0073   \n",
       "\n",
       "  Job_Type Default_hist     Prop_List  Home_Appliances Region_Type Credit_Inq  \\\n",
       "0    Govt.          ndf  Morethan_One              1.0       Metro          1   \n",
       "1    Govt.          ndf           One              4.0       Metro          1   \n",
       "2       IT          ndf  Morethan_One              NaN       Rural          1   \n",
       "3       IT          ndf           One              4.0       Metro          1   \n",
       "4   Non-IT          ndf           One              4.0       Metro          3   \n",
       "\n",
       "  Education_det Marital_Stat Gen Credit_Lnks  Experience     Income_Alt  \\\n",
       "0          Grad      Married   M      1_to_3         5.4  Not_Specified   \n",
       "1          Grad      Married   M      1_to_3         2.3              Y   \n",
       "2          Grad      Married   M      1_to_3        11.0              Y   \n",
       "3          Grad      Married   M      1_to_3         9.7              Y   \n",
       "4        P_Grad      Married   F      1_to_3         NaN              Y   \n",
       "\n",
       "  Day_Process Ph.No Type_Loan  Dependents  Company_Rating   Region   Age  \\\n",
       "0        thur   Yes     CLoan         3.0             2.0    North  39.0   \n",
       "1         wed    No     CLoan         2.0             3.0  Central  46.0   \n",
       "2        thur    No     CLoan         3.0             2.0    South  33.0   \n",
       "3         Tue   Yes     CLoan         2.0             2.0     East  48.0   \n",
       "4         wed   Yes     RLoan         2.0             3.0    North  53.0   \n",
       "\n",
       "   hour_Process Addr_permanent Permanent_Addr_tag  c1_rated  c2_rated  \\\n",
       "0          11.0            Yes                Yes     0.349     0.349   \n",
       "1          13.0            Yes                Yes     0.237     0.237   \n",
       "2          15.0            Yes                Yes     0.111     0.111   \n",
       "3          12.0            Yes                Yes     0.323     0.323   \n",
       "4           7.0            Yes                Yes     0.940     0.940   \n",
       "\n",
       "   Contact_age  Product_bought  \n",
       "0       3133.0             2.0  \n",
       "1       1730.0             5.0  \n",
       "2        759.0             4.0  \n",
       "3        609.0             4.0  \n",
       "4       1222.0             1.0  "
      ]
     },
     "execution_count": 3,
     "metadata": {},
     "output_type": "execute_result"
    }
   ],
   "source": [
    " \n",
    "# downloaded = drive.CreateFile({'id':id2})\n",
    "# downloaded.GetContentFile('Test_Set_TVS.csv') \n",
    "df_test = pd.read_csv(\"Test_Set_TVS.csv\")\n",
    "df_test.head()"
   ]
  },
  {
   "cell_type": "code",
   "execution_count": 4,
   "metadata": {
    "colab": {
     "base_uri": "https://localhost:8080/"
    },
    "id": "PGinXvTV_SHD",
    "outputId": "c60a57f6-15d8-434f-988f-72511b5ed590"
   },
   "outputs": [
    {
     "data": {
      "text/plain": [
       "(132440, 33)"
      ]
     },
     "execution_count": 4,
     "metadata": {},
     "output_type": "execute_result"
    }
   ],
   "source": [
    "df_train.shape"
   ]
  },
  {
   "cell_type": "code",
   "execution_count": 5,
   "metadata": {
    "colab": {
     "base_uri": "https://localhost:8080/"
    },
    "id": "BMp3OaHw_SHD",
    "outputId": "ee6f3b4d-885c-483b-c56a-b849cf79ec12"
   },
   "outputs": [
    {
     "data": {
      "text/plain": [
       "(56760, 32)"
      ]
     },
     "execution_count": 5,
     "metadata": {},
     "output_type": "execute_result"
    }
   ],
   "source": [
    "df_test.shape"
   ]
  },
  {
   "cell_type": "code",
   "execution_count": 6,
   "metadata": {
    "colab": {
     "base_uri": "https://localhost:8080/",
     "height": 364
    },
    "id": "TEWg9Iei_SHE",
    "outputId": "10a2f5bb-e0f4-4ae8-fe84-38c12e6dca14"
   },
   "outputs": [
    {
     "data": {
      "text/html": [
       "<div>\n",
       "<style scoped>\n",
       "    .dataframe tbody tr th:only-of-type {\n",
       "        vertical-align: middle;\n",
       "    }\n",
       "\n",
       "    .dataframe tbody tr th {\n",
       "        vertical-align: top;\n",
       "    }\n",
       "\n",
       "    .dataframe thead th {\n",
       "        text-align: right;\n",
       "    }\n",
       "</style>\n",
       "<table border=\"1\" class=\"dataframe\">\n",
       "  <thead>\n",
       "    <tr style=\"text-align: right;\">\n",
       "      <th></th>\n",
       "      <th>ID</th>\n",
       "      <th>Compensation</th>\n",
       "      <th>Loan_amt</th>\n",
       "      <th>Annuity_amt</th>\n",
       "      <th>density_Ind</th>\n",
       "      <th>Home_Appliances</th>\n",
       "      <th>Experience</th>\n",
       "      <th>Dependents</th>\n",
       "      <th>Company_Rating</th>\n",
       "      <th>Age</th>\n",
       "      <th>hour_Process</th>\n",
       "      <th>c1_rated</th>\n",
       "      <th>c2_rated</th>\n",
       "      <th>Contact_age</th>\n",
       "      <th>Product_bought</th>\n",
       "      <th>Default</th>\n",
       "    </tr>\n",
       "  </thead>\n",
       "  <tbody>\n",
       "    <tr>\n",
       "      <th>count</th>\n",
       "      <td>132440.000000</td>\n",
       "      <td>1.261980e+05</td>\n",
       "      <td>1.324400e+05</td>\n",
       "      <td>127829.000000</td>\n",
       "      <td>127024.000000</td>\n",
       "      <td>121476.000000</td>\n",
       "      <td>110595.000000</td>\n",
       "      <td>132440.000000</td>\n",
       "      <td>120709.000000</td>\n",
       "      <td>132440.00000</td>\n",
       "      <td>132440.000000</td>\n",
       "      <td>114927.000000</td>\n",
       "      <td>119119.000000</td>\n",
       "      <td>124287.000000</td>\n",
       "      <td>132440.000000</td>\n",
       "      <td>132440.000000</td>\n",
       "    </tr>\n",
       "    <tr>\n",
       "      <th>mean</th>\n",
       "      <td>488938.279319</td>\n",
       "      <td>7.450519e+05</td>\n",
       "      <td>4.148011e+05</td>\n",
       "      <td>10845.286442</td>\n",
       "      <td>0.020446</td>\n",
       "      <td>3.220891</td>\n",
       "      <td>6.580616</td>\n",
       "      <td>2.155467</td>\n",
       "      <td>2.030553</td>\n",
       "      <td>43.93326</td>\n",
       "      <td>12.060865</td>\n",
       "      <td>0.505929</td>\n",
       "      <td>0.506181</td>\n",
       "      <td>979.451383</td>\n",
       "      <td>3.387738</td>\n",
       "      <td>0.264301</td>\n",
       "    </tr>\n",
       "    <tr>\n",
       "      <th>std</th>\n",
       "      <td>58568.207772</td>\n",
       "      <td>4.702762e+05</td>\n",
       "      <td>2.746788e+05</td>\n",
       "      <td>2061.529355</td>\n",
       "      <td>0.015077</td>\n",
       "      <td>1.241751</td>\n",
       "      <td>6.357054</td>\n",
       "      <td>0.909046</td>\n",
       "      <td>0.503750</td>\n",
       "      <td>11.96270</td>\n",
       "      <td>3.566714</td>\n",
       "      <td>0.268665</td>\n",
       "      <td>0.268716</td>\n",
       "      <td>829.632194</td>\n",
       "      <td>2.173246</td>\n",
       "      <td>0.440962</td>\n",
       "    </tr>\n",
       "    <tr>\n",
       "      <th>min</th>\n",
       "      <td>387652.000000</td>\n",
       "      <td>1.527280e+05</td>\n",
       "      <td>3.427500e+04</td>\n",
       "      <td>5852.100000</td>\n",
       "      <td>0.000100</td>\n",
       "      <td>1.000000</td>\n",
       "      <td>0.000000</td>\n",
       "      <td>1.000000</td>\n",
       "      <td>1.000000</td>\n",
       "      <td>21.00000</td>\n",
       "      <td>0.000000</td>\n",
       "      <td>0.000000</td>\n",
       "      <td>0.000000</td>\n",
       "      <td>10.000000</td>\n",
       "      <td>0.000000</td>\n",
       "      <td>0.000000</td>\n",
       "    </tr>\n",
       "    <tr>\n",
       "      <th>25%</th>\n",
       "      <td>438095.500000</td>\n",
       "      <td>5.177060e+05</td>\n",
       "      <td>2.045300e+05</td>\n",
       "      <td>9348.370000</td>\n",
       "      <td>0.010400</td>\n",
       "      <td>2.000000</td>\n",
       "      <td>2.100000</td>\n",
       "      <td>2.000000</td>\n",
       "      <td>2.000000</td>\n",
       "      <td>34.00000</td>\n",
       "      <td>10.000000</td>\n",
       "      <td>0.268000</td>\n",
       "      <td>0.268000</td>\n",
       "      <td>288.000000</td>\n",
       "      <td>2.000000</td>\n",
       "      <td>0.000000</td>\n",
       "    </tr>\n",
       "    <tr>\n",
       "      <th>50%</th>\n",
       "      <td>488952.500000</td>\n",
       "      <td>6.659960e+05</td>\n",
       "      <td>3.495425e+05</td>\n",
       "      <td>10773.820000</td>\n",
       "      <td>0.020400</td>\n",
       "      <td>4.000000</td>\n",
       "      <td>4.600000</td>\n",
       "      <td>2.000000</td>\n",
       "      <td>2.000000</td>\n",
       "      <td>43.00000</td>\n",
       "      <td>12.000000</td>\n",
       "      <td>0.500000</td>\n",
       "      <td>0.500000</td>\n",
       "      <td>770.000000</td>\n",
       "      <td>3.000000</td>\n",
       "      <td>0.000000</td>\n",
       "    </tr>\n",
       "    <tr>\n",
       "      <th>75%</th>\n",
       "      <td>539702.000000</td>\n",
       "      <td>8.794890e+05</td>\n",
       "      <td>5.582050e+05</td>\n",
       "      <td>12165.390000</td>\n",
       "      <td>0.030400</td>\n",
       "      <td>4.000000</td>\n",
       "      <td>9.000000</td>\n",
       "      <td>3.000000</td>\n",
       "      <td>2.000000</td>\n",
       "      <td>54.00000</td>\n",
       "      <td>15.000000</td>\n",
       "      <td>0.769000</td>\n",
       "      <td>0.769000</td>\n",
       "      <td>1589.000000</td>\n",
       "      <td>5.000000</td>\n",
       "      <td>1.000000</td>\n",
       "    </tr>\n",
       "    <tr>\n",
       "      <th>max</th>\n",
       "      <td>590407.000000</td>\n",
       "      <td>7.037702e+07</td>\n",
       "      <td>2.872142e+06</td>\n",
       "      <td>41301.000000</td>\n",
       "      <td>2.017800</td>\n",
       "      <td>19.000000</td>\n",
       "      <td>48.100000</td>\n",
       "      <td>9.000000</td>\n",
       "      <td>3.000000</td>\n",
       "      <td>69.00000</td>\n",
       "      <td>25.000000</td>\n",
       "      <td>0.947000</td>\n",
       "      <td>0.947000</td>\n",
       "      <td>4309.000000</td>\n",
       "      <td>25.000000</td>\n",
       "      <td>1.000000</td>\n",
       "    </tr>\n",
       "  </tbody>\n",
       "</table>\n",
       "</div>"
      ],
      "text/plain": [
       "                  ID  Compensation      Loan_amt    Annuity_amt  \\\n",
       "count  132440.000000  1.261980e+05  1.324400e+05  127829.000000   \n",
       "mean   488938.279319  7.450519e+05  4.148011e+05   10845.286442   \n",
       "std     58568.207772  4.702762e+05  2.746788e+05    2061.529355   \n",
       "min    387652.000000  1.527280e+05  3.427500e+04    5852.100000   \n",
       "25%    438095.500000  5.177060e+05  2.045300e+05    9348.370000   \n",
       "50%    488952.500000  6.659960e+05  3.495425e+05   10773.820000   \n",
       "75%    539702.000000  8.794890e+05  5.582050e+05   12165.390000   \n",
       "max    590407.000000  7.037702e+07  2.872142e+06   41301.000000   \n",
       "\n",
       "         density_Ind  Home_Appliances     Experience     Dependents  \\\n",
       "count  127024.000000    121476.000000  110595.000000  132440.000000   \n",
       "mean        0.020446         3.220891       6.580616       2.155467   \n",
       "std         0.015077         1.241751       6.357054       0.909046   \n",
       "min         0.000100         1.000000       0.000000       1.000000   \n",
       "25%         0.010400         2.000000       2.100000       2.000000   \n",
       "50%         0.020400         4.000000       4.600000       2.000000   \n",
       "75%         0.030400         4.000000       9.000000       3.000000   \n",
       "max         2.017800        19.000000      48.100000       9.000000   \n",
       "\n",
       "       Company_Rating           Age   hour_Process       c1_rated  \\\n",
       "count   120709.000000  132440.00000  132440.000000  114927.000000   \n",
       "mean         2.030553      43.93326      12.060865       0.505929   \n",
       "std          0.503750      11.96270       3.566714       0.268665   \n",
       "min          1.000000      21.00000       0.000000       0.000000   \n",
       "25%          2.000000      34.00000      10.000000       0.268000   \n",
       "50%          2.000000      43.00000      12.000000       0.500000   \n",
       "75%          2.000000      54.00000      15.000000       0.769000   \n",
       "max          3.000000      69.00000      25.000000       0.947000   \n",
       "\n",
       "            c2_rated    Contact_age  Product_bought        Default  \n",
       "count  119119.000000  124287.000000   132440.000000  132440.000000  \n",
       "mean        0.506181     979.451383        3.387738       0.264301  \n",
       "std         0.268716     829.632194        2.173246       0.440962  \n",
       "min         0.000000      10.000000        0.000000       0.000000  \n",
       "25%         0.268000     288.000000        2.000000       0.000000  \n",
       "50%         0.500000     770.000000        3.000000       0.000000  \n",
       "75%         0.769000    1589.000000        5.000000       1.000000  \n",
       "max         0.947000    4309.000000       25.000000       1.000000  "
      ]
     },
     "execution_count": 6,
     "metadata": {},
     "output_type": "execute_result"
    }
   ],
   "source": [
    "df_train.describe()"
   ]
  },
  {
   "cell_type": "code",
   "execution_count": 7,
   "metadata": {
    "colab": {
     "base_uri": "https://localhost:8080/",
     "height": 364
    },
    "id": "_smvCNlg_SHF",
    "outputId": "b8d2902b-acaa-4f00-90be-78d686f4efb5"
   },
   "outputs": [
    {
     "data": {
      "text/html": [
       "<div>\n",
       "<style scoped>\n",
       "    .dataframe tbody tr th:only-of-type {\n",
       "        vertical-align: middle;\n",
       "    }\n",
       "\n",
       "    .dataframe tbody tr th {\n",
       "        vertical-align: top;\n",
       "    }\n",
       "\n",
       "    .dataframe thead th {\n",
       "        text-align: right;\n",
       "    }\n",
       "</style>\n",
       "<table border=\"1\" class=\"dataframe\">\n",
       "  <thead>\n",
       "    <tr style=\"text-align: right;\">\n",
       "      <th></th>\n",
       "      <th>ID</th>\n",
       "      <th>Compensation</th>\n",
       "      <th>Loan_amt</th>\n",
       "      <th>Annuity_amt</th>\n",
       "      <th>density_Ind</th>\n",
       "      <th>Home_Appliances</th>\n",
       "      <th>Experience</th>\n",
       "      <th>Dependents</th>\n",
       "      <th>Company_Rating</th>\n",
       "      <th>Age</th>\n",
       "      <th>hour_Process</th>\n",
       "      <th>c1_rated</th>\n",
       "      <th>c2_rated</th>\n",
       "      <th>Contact_age</th>\n",
       "      <th>Product_bought</th>\n",
       "    </tr>\n",
       "  </thead>\n",
       "  <tbody>\n",
       "    <tr>\n",
       "      <th>count</th>\n",
       "      <td>56760.000000</td>\n",
       "      <td>5.401000e+04</td>\n",
       "      <td>5.676000e+04</td>\n",
       "      <td>54797.000000</td>\n",
       "      <td>54485.000000</td>\n",
       "      <td>52001.000000</td>\n",
       "      <td>47409.000000</td>\n",
       "      <td>56760.000000</td>\n",
       "      <td>51707.000000</td>\n",
       "      <td>56760.000000</td>\n",
       "      <td>56760.000000</td>\n",
       "      <td>49397.000000</td>\n",
       "      <td>51105.000000</td>\n",
       "      <td>53238.00000</td>\n",
       "      <td>56760.000000</td>\n",
       "    </tr>\n",
       "    <tr>\n",
       "      <th>mean</th>\n",
       "      <td>489156.967089</td>\n",
       "      <td>7.423110e+05</td>\n",
       "      <td>4.145631e+05</td>\n",
       "      <td>10832.334840</td>\n",
       "      <td>0.020465</td>\n",
       "      <td>3.220688</td>\n",
       "      <td>6.590278</td>\n",
       "      <td>2.150828</td>\n",
       "      <td>2.028487</td>\n",
       "      <td>43.944327</td>\n",
       "      <td>12.079299</td>\n",
       "      <td>0.505408</td>\n",
       "      <td>0.506154</td>\n",
       "      <td>971.82118</td>\n",
       "      <td>3.399683</td>\n",
       "    </tr>\n",
       "    <tr>\n",
       "      <th>std</th>\n",
       "      <td>58459.598434</td>\n",
       "      <td>3.764809e+05</td>\n",
       "      <td>2.759849e+05</td>\n",
       "      <td>2060.269444</td>\n",
       "      <td>0.016790</td>\n",
       "      <td>1.240932</td>\n",
       "      <td>6.284459</td>\n",
       "      <td>0.909028</td>\n",
       "      <td>0.505052</td>\n",
       "      <td>11.979557</td>\n",
       "      <td>3.554178</td>\n",
       "      <td>0.268413</td>\n",
       "      <td>0.268316</td>\n",
       "      <td>825.51022</td>\n",
       "      <td>2.174527</td>\n",
       "    </tr>\n",
       "    <tr>\n",
       "      <th>min</th>\n",
       "      <td>387653.000000</td>\n",
       "      <td>1.483300e+05</td>\n",
       "      <td>3.477750e+04</td>\n",
       "      <td>6061.610000</td>\n",
       "      <td>0.000000</td>\n",
       "      <td>1.000000</td>\n",
       "      <td>0.000000</td>\n",
       "      <td>1.000000</td>\n",
       "      <td>1.000000</td>\n",
       "      <td>21.000000</td>\n",
       "      <td>0.000000</td>\n",
       "      <td>0.000000</td>\n",
       "      <td>0.000000</td>\n",
       "      <td>10.00000</td>\n",
       "      <td>0.000000</td>\n",
       "    </tr>\n",
       "    <tr>\n",
       "      <th>25%</th>\n",
       "      <td>438878.000000</td>\n",
       "      <td>5.162055e+05</td>\n",
       "      <td>2.035587e+05</td>\n",
       "      <td>9344.360000</td>\n",
       "      <td>0.010400</td>\n",
       "      <td>2.000000</td>\n",
       "      <td>2.200000</td>\n",
       "      <td>2.000000</td>\n",
       "      <td>2.000000</td>\n",
       "      <td>34.000000</td>\n",
       "      <td>10.000000</td>\n",
       "      <td>0.268000</td>\n",
       "      <td>0.269000</td>\n",
       "      <td>284.00000</td>\n",
       "      <td>2.000000</td>\n",
       "    </tr>\n",
       "    <tr>\n",
       "      <th>50%</th>\n",
       "      <td>488939.500000</td>\n",
       "      <td>6.667440e+05</td>\n",
       "      <td>3.488628e+05</td>\n",
       "      <td>10756.450000</td>\n",
       "      <td>0.020300</td>\n",
       "      <td>4.000000</td>\n",
       "      <td>4.600000</td>\n",
       "      <td>2.000000</td>\n",
       "      <td>2.000000</td>\n",
       "      <td>43.000000</td>\n",
       "      <td>12.000000</td>\n",
       "      <td>0.431000</td>\n",
       "      <td>0.500000</td>\n",
       "      <td>767.00000</td>\n",
       "      <td>3.000000</td>\n",
       "    </tr>\n",
       "    <tr>\n",
       "      <th>75%</th>\n",
       "      <td>539700.500000</td>\n",
       "      <td>8.770300e+05</td>\n",
       "      <td>5.598608e+05</td>\n",
       "      <td>12142.340000</td>\n",
       "      <td>0.030500</td>\n",
       "      <td>4.000000</td>\n",
       "      <td>9.000000</td>\n",
       "      <td>3.000000</td>\n",
       "      <td>2.000000</td>\n",
       "      <td>54.000000</td>\n",
       "      <td>15.000000</td>\n",
       "      <td>0.769000</td>\n",
       "      <td>0.769000</td>\n",
       "      <td>1579.00000</td>\n",
       "      <td>5.000000</td>\n",
       "    </tr>\n",
       "    <tr>\n",
       "      <th>max</th>\n",
       "      <td>590401.000000</td>\n",
       "      <td>1.727617e+07</td>\n",
       "      <td>2.743640e+06</td>\n",
       "      <td>38116.000000</td>\n",
       "      <td>2.037200</td>\n",
       "      <td>19.000000</td>\n",
       "      <td>48.100000</td>\n",
       "      <td>9.000000</td>\n",
       "      <td>3.000000</td>\n",
       "      <td>69.000000</td>\n",
       "      <td>25.000000</td>\n",
       "      <td>0.941000</td>\n",
       "      <td>0.941000</td>\n",
       "      <td>4109.00000</td>\n",
       "      <td>26.000000</td>\n",
       "    </tr>\n",
       "  </tbody>\n",
       "</table>\n",
       "</div>"
      ],
      "text/plain": [
       "                  ID  Compensation      Loan_amt   Annuity_amt   density_Ind  \\\n",
       "count   56760.000000  5.401000e+04  5.676000e+04  54797.000000  54485.000000   \n",
       "mean   489156.967089  7.423110e+05  4.145631e+05  10832.334840      0.020465   \n",
       "std     58459.598434  3.764809e+05  2.759849e+05   2060.269444      0.016790   \n",
       "min    387653.000000  1.483300e+05  3.477750e+04   6061.610000      0.000000   \n",
       "25%    438878.000000  5.162055e+05  2.035587e+05   9344.360000      0.010400   \n",
       "50%    488939.500000  6.667440e+05  3.488628e+05  10756.450000      0.020300   \n",
       "75%    539700.500000  8.770300e+05  5.598608e+05  12142.340000      0.030500   \n",
       "max    590401.000000  1.727617e+07  2.743640e+06  38116.000000      2.037200   \n",
       "\n",
       "       Home_Appliances    Experience    Dependents  Company_Rating  \\\n",
       "count     52001.000000  47409.000000  56760.000000    51707.000000   \n",
       "mean          3.220688      6.590278      2.150828        2.028487   \n",
       "std           1.240932      6.284459      0.909028        0.505052   \n",
       "min           1.000000      0.000000      1.000000        1.000000   \n",
       "25%           2.000000      2.200000      2.000000        2.000000   \n",
       "50%           4.000000      4.600000      2.000000        2.000000   \n",
       "75%           4.000000      9.000000      3.000000        2.000000   \n",
       "max          19.000000     48.100000      9.000000        3.000000   \n",
       "\n",
       "                Age  hour_Process      c1_rated      c2_rated  Contact_age  \\\n",
       "count  56760.000000  56760.000000  49397.000000  51105.000000  53238.00000   \n",
       "mean      43.944327     12.079299      0.505408      0.506154    971.82118   \n",
       "std       11.979557      3.554178      0.268413      0.268316    825.51022   \n",
       "min       21.000000      0.000000      0.000000      0.000000     10.00000   \n",
       "25%       34.000000     10.000000      0.268000      0.269000    284.00000   \n",
       "50%       43.000000     12.000000      0.431000      0.500000    767.00000   \n",
       "75%       54.000000     15.000000      0.769000      0.769000   1579.00000   \n",
       "max       69.000000     25.000000      0.941000      0.941000   4109.00000   \n",
       "\n",
       "       Product_bought  \n",
       "count    56760.000000  \n",
       "mean         3.399683  \n",
       "std          2.174527  \n",
       "min          0.000000  \n",
       "25%          2.000000  \n",
       "50%          3.000000  \n",
       "75%          5.000000  \n",
       "max         26.000000  "
      ]
     },
     "execution_count": 7,
     "metadata": {},
     "output_type": "execute_result"
    }
   ],
   "source": [
    "df_test.describe()"
   ]
  },
  {
   "cell_type": "code",
   "execution_count": 8,
   "metadata": {
    "colab": {
     "base_uri": "https://localhost:8080/"
    },
    "id": "3KPEi-Jz_SHG",
    "outputId": "8b573c56-8a4c-4854-9734-238f1cc3badd"
   },
   "outputs": [
    {
     "name": "stdout",
     "output_type": "stream",
     "text": [
      "<class 'pandas.core.frame.DataFrame'>\n",
      "RangeIndex: 132440 entries, 0 to 132439\n",
      "Data columns (total 33 columns):\n",
      "ID                    132440 non-null int64\n",
      "Compensation          126198 non-null float64\n",
      "Vehicle_Status        123336 non-null object\n",
      "Loan_amt              132440 non-null float64\n",
      "Annuity_amt           127829 non-null float64\n",
      "density_Ind           127024 non-null float64\n",
      "Job_Type              122192 non-null object\n",
      "Default_hist          132440 non-null object\n",
      "Prop_List             130475 non-null object\n",
      "Home_Appliances       121476 non-null float64\n",
      "Region_Type           132440 non-null object\n",
      "Credit_Inq            129750 non-null object\n",
      "Education_det         132440 non-null object\n",
      "Marital_Stat          132440 non-null object\n",
      "Gen                   132440 non-null object\n",
      "Credit_Lnks           132440 non-null object\n",
      "Experience            110595 non-null float64\n",
      "Income_Alt            124758 non-null object\n",
      "Day_Process           132440 non-null object\n",
      "Ph.No                 132440 non-null object\n",
      "Type_Loan             132440 non-null object\n",
      "Dependents            132440 non-null float64\n",
      "Company_Rating        120709 non-null float64\n",
      "Region                132440 non-null object\n",
      "Age                   132440 non-null float64\n",
      "hour_Process          132440 non-null float64\n",
      "Addr_permanent        132440 non-null object\n",
      "Permanent_Addr_tag    132440 non-null object\n",
      "c1_rated              114927 non-null float64\n",
      "c2_rated              119119 non-null float64\n",
      "Contact_age           124287 non-null float64\n",
      "Product_bought        132440 non-null float64\n",
      "Default               132440 non-null float64\n",
      "dtypes: float64(15), int64(1), object(17)\n",
      "memory usage: 33.3+ MB\n"
     ]
    }
   ],
   "source": [
    "df_train.info()"
   ]
  },
  {
   "cell_type": "code",
   "execution_count": 9,
   "metadata": {
    "colab": {
     "base_uri": "https://localhost:8080/"
    },
    "id": "ZUUurAZO_SHG",
    "outputId": "b463ceab-06ff-4592-baa2-2bb4f6f31077"
   },
   "outputs": [
    {
     "name": "stdout",
     "output_type": "stream",
     "text": [
      "<class 'pandas.core.frame.DataFrame'>\n",
      "RangeIndex: 56760 entries, 0 to 56759\n",
      "Data columns (total 32 columns):\n",
      "ID                    56760 non-null int64\n",
      "Compensation          54010 non-null float64\n",
      "Vehicle_Status        52877 non-null object\n",
      "Loan_amt              56760 non-null float64\n",
      "Annuity_amt           54797 non-null float64\n",
      "density_Ind           54485 non-null float64\n",
      "Job_Type              52440 non-null object\n",
      "Default_hist          56760 non-null object\n",
      "Prop_List             55849 non-null object\n",
      "Home_Appliances       52001 non-null float64\n",
      "Region_Type           56760 non-null object\n",
      "Credit_Inq            55594 non-null object\n",
      "Education_det         56760 non-null object\n",
      "Marital_Stat          56760 non-null object\n",
      "Gen                   56760 non-null object\n",
      "Credit_Lnks           56760 non-null object\n",
      "Experience            47409 non-null float64\n",
      "Income_Alt            53461 non-null object\n",
      "Day_Process           56760 non-null object\n",
      "Ph.No                 56760 non-null object\n",
      "Type_Loan             56760 non-null object\n",
      "Dependents            56760 non-null float64\n",
      "Company_Rating        51707 non-null float64\n",
      "Region                56760 non-null object\n",
      "Age                   56760 non-null float64\n",
      "hour_Process          56760 non-null float64\n",
      "Addr_permanent        56760 non-null object\n",
      "Permanent_Addr_tag    56760 non-null object\n",
      "c1_rated              49397 non-null float64\n",
      "c2_rated              51105 non-null float64\n",
      "Contact_age           53238 non-null float64\n",
      "Product_bought        56760 non-null float64\n",
      "dtypes: float64(14), int64(1), object(17)\n",
      "memory usage: 13.9+ MB\n"
     ]
    }
   ],
   "source": [
    "df_test.info()"
   ]
  },
  {
   "cell_type": "code",
   "execution_count": 10,
   "metadata": {
    "colab": {
     "base_uri": "https://localhost:8080/"
    },
    "id": "tWFLCprV_SHH",
    "outputId": "bf6975ff-6c46-4655-935f-84cf496405ed"
   },
   "outputs": [
    {
     "data": {
      "text/plain": [
       "ID                        0\n",
       "Compensation           6242\n",
       "Vehicle_Status         9104\n",
       "Loan_amt                  0\n",
       "Annuity_amt            4611\n",
       "density_Ind            5416\n",
       "Job_Type              10248\n",
       "Default_hist              0\n",
       "Prop_List              1965\n",
       "Home_Appliances       10964\n",
       "Region_Type               0\n",
       "Credit_Inq             2690\n",
       "Education_det             0\n",
       "Marital_Stat              0\n",
       "Gen                       0\n",
       "Credit_Lnks               0\n",
       "Experience            21845\n",
       "Income_Alt             7682\n",
       "Day_Process               0\n",
       "Ph.No                     0\n",
       "Type_Loan                 0\n",
       "Dependents                0\n",
       "Company_Rating        11731\n",
       "Region                    0\n",
       "Age                       0\n",
       "hour_Process              0\n",
       "Addr_permanent            0\n",
       "Permanent_Addr_tag        0\n",
       "c1_rated              17513\n",
       "c2_rated              13321\n",
       "Contact_age            8153\n",
       "Product_bought            0\n",
       "Default                   0\n",
       "dtype: int64"
      ]
     },
     "execution_count": 10,
     "metadata": {},
     "output_type": "execute_result"
    }
   ],
   "source": [
    "df_train.isnull().sum()"
   ]
  },
  {
   "cell_type": "code",
   "execution_count": 11,
   "metadata": {
    "colab": {
     "base_uri": "https://localhost:8080/"
    },
    "id": "k6wSzaBP_SHI",
    "outputId": "3be6125b-ba20-4a1b-f3b3-ffe1d95da77a"
   },
   "outputs": [
    {
     "data": {
      "text/plain": [
       "ID                       0\n",
       "Compensation          2750\n",
       "Vehicle_Status        3883\n",
       "Loan_amt                 0\n",
       "Annuity_amt           1963\n",
       "density_Ind           2275\n",
       "Job_Type              4320\n",
       "Default_hist             0\n",
       "Prop_List              911\n",
       "Home_Appliances       4759\n",
       "Region_Type              0\n",
       "Credit_Inq            1166\n",
       "Education_det            0\n",
       "Marital_Stat             0\n",
       "Gen                      0\n",
       "Credit_Lnks              0\n",
       "Experience            9351\n",
       "Income_Alt            3299\n",
       "Day_Process              0\n",
       "Ph.No                    0\n",
       "Type_Loan                0\n",
       "Dependents               0\n",
       "Company_Rating        5053\n",
       "Region                   0\n",
       "Age                      0\n",
       "hour_Process             0\n",
       "Addr_permanent           0\n",
       "Permanent_Addr_tag       0\n",
       "c1_rated              7363\n",
       "c2_rated              5655\n",
       "Contact_age           3522\n",
       "Product_bought           0\n",
       "dtype: int64"
      ]
     },
     "execution_count": 11,
     "metadata": {},
     "output_type": "execute_result"
    }
   ],
   "source": [
    "df_test.isnull().sum()"
   ]
  },
  {
   "cell_type": "code",
   "execution_count": 12,
   "metadata": {
    "colab": {
     "base_uri": "https://localhost:8080/"
    },
    "id": "J9b0oicE_SHI",
    "outputId": "6048616d-5a1e-4aeb-a6fe-b6ec3876e8cc"
   },
   "outputs": [
    {
     "data": {
      "text/plain": [
       "ID                     0.000000\n",
       "Compensation           4.713078\n",
       "Vehicle_Status         6.874056\n",
       "Loan_amt               0.000000\n",
       "Annuity_amt            3.481577\n",
       "density_Ind            4.089399\n",
       "Job_Type               7.737844\n",
       "Default_hist           0.000000\n",
       "Prop_List              1.483691\n",
       "Home_Appliances        8.278466\n",
       "Region_Type            0.000000\n",
       "Credit_Inq             2.031108\n",
       "Education_det          0.000000\n",
       "Marital_Stat           0.000000\n",
       "Gen                    0.000000\n",
       "Credit_Lnks            0.000000\n",
       "Experience            16.494262\n",
       "Income_Alt             5.800362\n",
       "Day_Process            0.000000\n",
       "Ph.No                  0.000000\n",
       "Type_Loan              0.000000\n",
       "Dependents             0.000000\n",
       "Company_Rating         8.857596\n",
       "Region                 0.000000\n",
       "Age                    0.000000\n",
       "hour_Process           0.000000\n",
       "Addr_permanent         0.000000\n",
       "Permanent_Addr_tag     0.000000\n",
       "c1_rated              13.223346\n",
       "c2_rated              10.058140\n",
       "Contact_age            6.155995\n",
       "Product_bought         0.000000\n",
       "Default                0.000000\n",
       "dtype: float64"
      ]
     },
     "execution_count": 12,
     "metadata": {},
     "output_type": "execute_result"
    }
   ],
   "source": [
    "(df_train.isnull().sum()/len(df_train))*100"
   ]
  },
  {
   "cell_type": "code",
   "execution_count": 13,
   "metadata": {
    "colab": {
     "base_uri": "https://localhost:8080/"
    },
    "id": "voFYEw31_SHJ",
    "outputId": "afa1a6b1-d73c-4b26-d47f-918605e6be87"
   },
   "outputs": [
    {
     "data": {
      "text/plain": [
       "ID                     0.000000\n",
       "Compensation           4.844961\n",
       "Vehicle_Status         6.841085\n",
       "Loan_amt               0.000000\n",
       "Annuity_amt            3.458421\n",
       "density_Ind            4.008104\n",
       "Job_Type               7.610994\n",
       "Default_hist           0.000000\n",
       "Prop_List              1.605004\n",
       "Home_Appliances        8.384426\n",
       "Region_Type            0.000000\n",
       "Credit_Inq             2.054264\n",
       "Education_det          0.000000\n",
       "Marital_Stat           0.000000\n",
       "Gen                    0.000000\n",
       "Credit_Lnks            0.000000\n",
       "Experience            16.474630\n",
       "Income_Alt             5.812192\n",
       "Day_Process            0.000000\n",
       "Ph.No                  0.000000\n",
       "Type_Loan              0.000000\n",
       "Dependents             0.000000\n",
       "Company_Rating         8.902396\n",
       "Region                 0.000000\n",
       "Age                    0.000000\n",
       "hour_Process           0.000000\n",
       "Addr_permanent         0.000000\n",
       "Permanent_Addr_tag     0.000000\n",
       "c1_rated              12.972163\n",
       "c2_rated               9.963002\n",
       "Contact_age            6.205074\n",
       "Product_bought         0.000000\n",
       "dtype: float64"
      ]
     },
     "execution_count": 13,
     "metadata": {},
     "output_type": "execute_result"
    }
   ],
   "source": [
    "(df_test.isnull().sum()/len(df_test))*100"
   ]
  },
  {
   "cell_type": "code",
   "execution_count": 14,
   "metadata": {
    "colab": {
     "base_uri": "https://localhost:8080/"
    },
    "id": "waHrz5zY_SHJ",
    "outputId": "c79f82bd-8b12-48ff-95d3-2a8c540d1ee6"
   },
   "outputs": [
    {
     "name": "stdout",
     "output_type": "stream",
     "text": [
      "Unique values in  VEHICLE_STATUS is :  2\n",
      "Y    41966\n",
      "N    81370\n",
      "Name: Vehicle_Status, dtype: int64\n",
      "\n",
      "\n",
      "Unique values in  JOB_TYPE is :  3\n",
      "Govt.     25722\n",
      "Non-IT    29488\n",
      "IT        66982\n",
      "Name: Job_Type, dtype: int64\n",
      "\n",
      "\n",
      "Unique values in  DEFAULT_HIST is :  2\n",
      "df      13270\n",
      "ndf    119170\n",
      "Name: Default_hist, dtype: int64\n",
      "\n",
      "\n",
      "Unique values in  PROP_LIST is :  3\n",
      "None            13020\n",
      "Morethan_One    25896\n",
      "One             91559\n",
      "Name: Prop_List, dtype: int64\n",
      "\n",
      "\n",
      "Unique values in  REGION_TYPE is :  3\n",
      "other      2614\n",
      "Rural     22278\n",
      "Metro    107548\n",
      "Name: Region_Type, dtype: int64\n",
      "\n",
      "\n",
      "Unique values in  CREDIT_INQ is :  4\n",
      ">4     9138\n",
      "3     23178\n",
      "2     30362\n",
      "1     67072\n",
      "Name: Credit_Inq, dtype: int64\n",
      "\n",
      "\n",
      "Unique values in  EDUCATION_DET is :  3\n",
      "Other      6125\n",
      "P_Grad    32457\n",
      "Grad      93858\n",
      "Name: Education_det, dtype: int64\n",
      "\n",
      "\n",
      "Unique values in  MARITAL_STAT is :  4\n",
      "Widow       6776\n",
      "Divorce     8391\n",
      "Single     19664\n",
      "Married    97609\n",
      "Name: Marital_Stat, dtype: int64\n",
      "\n",
      "\n",
      "Unique values in  GEN is :  2\n",
      "F    45377\n",
      "M    87063\n",
      "Name: Gen, dtype: int64\n",
      "\n",
      "\n",
      "Unique values in  CREDIT_LNKS is :  3\n",
      ">6          1654\n",
      "4_to_6     13182\n",
      "1_to_3    117604\n",
      "Name: Credit_Lnks, dtype: int64\n",
      "\n",
      "\n",
      "Unique values in  INCOME_ALT is :  2\n",
      "Y                34910\n",
      "Not_Specified    89848\n",
      "Name: Income_Alt, dtype: int64\n",
      "\n",
      "\n",
      "Unique values in  DAY_PROCESS is :  7\n",
      "Sun      6823\n",
      "SAT     14489\n",
      "Fri     21701\n",
      "mon     21936\n",
      "thur    21958\n",
      "wed     22387\n",
      "Tue     23146\n",
      "Name: Day_Process, dtype: int64\n",
      "\n",
      "\n",
      "Unique values in  PH.NO is :  2\n",
      "No      26496\n",
      "Yes    105944\n",
      "Name: Ph.No, dtype: int64\n",
      "\n",
      "\n",
      "Unique values in  TYPE_LOAN is :  2\n",
      "RLoan     12512\n",
      "CLoan    119928\n",
      "Name: Type_Loan, dtype: int64\n",
      "\n",
      "\n",
      "Unique values in  REGION is :  4\n",
      "South      23497\n",
      "Central    27227\n",
      "East       28615\n",
      "North      53101\n",
      "Name: Region, dtype: int64\n",
      "\n",
      "\n",
      "Unique values in  ADDR_PERMANENT is :  2\n",
      "No      10342\n",
      "Yes    122098\n",
      "Name: Addr_permanent, dtype: int64\n",
      "\n",
      "\n",
      "Unique values in  PERMANENT_ADDR_TAG is :  2\n",
      "No      23824\n",
      "Yes    108616\n",
      "Name: Permanent_Addr_tag, dtype: int64\n",
      "\n",
      "\n"
     ]
    }
   ],
   "source": [
    "for column in df_train.columns:\n",
    "    if df_train[column].dtype == 'object':\n",
    "        print(\"Unique values in \",column.upper(),'is : ',df_train[column].nunique())\n",
    "        print(df_train[column].value_counts().sort_values())\n",
    "        print('\\n')"
   ]
  },
  {
   "cell_type": "code",
   "execution_count": 15,
   "metadata": {
    "colab": {
     "base_uri": "https://localhost:8080/"
    },
    "id": "Elhbxove_SHK",
    "outputId": "8283a1b2-81b9-49ac-f673-10e29d988ea2"
   },
   "outputs": [
    {
     "data": {
      "text/plain": [
       "Index(['ID', 'Compensation', 'Vehicle_Status', 'Loan_amt', 'Annuity_amt',\n",
       "       'density_Ind', 'Job_Type', 'Default_hist', 'Prop_List',\n",
       "       'Home_Appliances', 'Region_Type', 'Credit_Inq', 'Education_det',\n",
       "       'Marital_Stat', 'Gen', 'Credit_Lnks', 'Experience', 'Income_Alt',\n",
       "       'Day_Process', 'Ph_No', 'Type_Loan', 'Dependents', 'Company_Rating',\n",
       "       'Region', 'Age', 'hour_Process', 'Addr_permanent', 'Permanent_Addr_tag',\n",
       "       'c1_rated', 'c2_rated', 'Contact_age', 'Product_bought', 'Default'],\n",
       "      dtype='object')"
      ]
     },
     "execution_count": 15,
     "metadata": {},
     "output_type": "execute_result"
    }
   ],
   "source": [
    "df_train.columns = df_train.columns.str.replace('.', '_')\n",
    "df_train.columns"
   ]
  },
  {
   "cell_type": "code",
   "execution_count": 16,
   "metadata": {
    "colab": {
     "base_uri": "https://localhost:8080/"
    },
    "id": "EC7rY6li_SHK",
    "outputId": "f866b35e-9db8-44f6-b139-c8e734e04b15"
   },
   "outputs": [
    {
     "name": "stdout",
     "output_type": "stream",
     "text": [
      "Unique values in  VEHICLE_STATUS is :  2\n",
      "Y    18156\n",
      "N    34721\n",
      "Name: Vehicle_Status, dtype: int64\n",
      "\n",
      "\n",
      "Unique values in  JOB_TYPE is :  3\n",
      "Govt.     11008\n",
      "Non-IT    12640\n",
      "IT        28792\n",
      "Name: Job_Type, dtype: int64\n",
      "\n",
      "\n",
      "Unique values in  DEFAULT_HIST is :  2\n",
      "df      5690\n",
      "ndf    51070\n",
      "Name: Default_hist, dtype: int64\n",
      "\n",
      "\n",
      "Unique values in  PROP_LIST is :  3\n",
      "None             5581\n",
      "Morethan_One    11046\n",
      "One             39222\n",
      "Name: Prop_List, dtype: int64\n",
      "\n",
      "\n",
      "Unique values in  REGION_TYPE is :  3\n",
      "other     1186\n",
      "Rural     9526\n",
      "Metro    46048\n",
      "Name: Region_Type, dtype: int64\n",
      "\n",
      "\n",
      "Unique values in  CREDIT_INQ is :  4\n",
      ">4     3863\n",
      "3      9998\n",
      "2     13030\n",
      "1     28703\n",
      "Name: Credit_Inq, dtype: int64\n",
      "\n",
      "\n",
      "Unique values in  EDUCATION_DET is :  3\n",
      "Other      2663\n",
      "P_Grad    13689\n",
      "Grad      40408\n",
      "Name: Education_det, dtype: int64\n",
      "\n",
      "\n",
      "Unique values in  MARITAL_STAT is :  4\n",
      "Widow       2973\n",
      "Divorce     3727\n",
      "Single      8335\n",
      "Married    41725\n",
      "Name: Marital_Stat, dtype: int64\n",
      "\n",
      "\n",
      "Unique values in  GEN is :  2\n",
      "F    19501\n",
      "M    37259\n",
      "Name: Gen, dtype: int64\n",
      "\n",
      "\n",
      "Unique values in  CREDIT_LNKS is :  3\n",
      ">6          672\n",
      "4_to_6     5716\n",
      "1_to_3    50372\n",
      "Name: Credit_Lnks, dtype: int64\n",
      "\n",
      "\n",
      "Unique values in  INCOME_ALT is :  2\n",
      "Y                15020\n",
      "Not_Specified    38441\n",
      "Name: Income_Alt, dtype: int64\n",
      "\n",
      "\n",
      "Unique values in  DAY_PROCESS is :  7\n",
      "Sun     3037\n",
      "SAT     6264\n",
      "thur    9213\n",
      "Fri     9311\n",
      "mon     9409\n",
      "wed     9636\n",
      "Tue     9890\n",
      "Name: Day_Process, dtype: int64\n",
      "\n",
      "\n",
      "Unique values in  PH.NO is :  2\n",
      "No     11361\n",
      "Yes    45399\n",
      "Name: Ph.No, dtype: int64\n",
      "\n",
      "\n",
      "Unique values in  TYPE_LOAN is :  2\n",
      "RLoan     5316\n",
      "CLoan    51444\n",
      "Name: Type_Loan, dtype: int64\n",
      "\n",
      "\n",
      "Unique values in  REGION is :  4\n",
      "South      10094\n",
      "Central    11286\n",
      "East       12525\n",
      "North      22855\n",
      "Name: Region, dtype: int64\n",
      "\n",
      "\n",
      "Unique values in  ADDR_PERMANENT is :  2\n",
      "No      4319\n",
      "Yes    52441\n",
      "Name: Addr_permanent, dtype: int64\n",
      "\n",
      "\n",
      "Unique values in  PERMANENT_ADDR_TAG is :  2\n",
      "No     10160\n",
      "Yes    46600\n",
      "Name: Permanent_Addr_tag, dtype: int64\n",
      "\n",
      "\n"
     ]
    }
   ],
   "source": [
    "for column in df_test.columns:\n",
    "    if df_test[column].dtype == 'object':\n",
    "        print(\"Unique values in \",column.upper(),'is : ',df_test[column].nunique())\n",
    "        print(df_test[column].value_counts().sort_values())\n",
    "        print('\\n')"
   ]
  },
  {
   "cell_type": "code",
   "execution_count": 17,
   "metadata": {
    "colab": {
     "base_uri": "https://localhost:8080/"
    },
    "id": "72GqlIex_SHL",
    "outputId": "3667a833-c9a0-49e7-b15f-500a2a26ebec"
   },
   "outputs": [
    {
     "data": {
      "text/plain": [
       "Index(['ID', 'Compensation', 'Vehicle_Status', 'Loan_amt', 'Annuity_amt',\n",
       "       'density_Ind', 'Job_Type', 'Default_hist', 'Prop_List',\n",
       "       'Home_Appliances', 'Region_Type', 'Credit_Inq', 'Education_det',\n",
       "       'Marital_Stat', 'Gen', 'Credit_Lnks', 'Experience', 'Income_Alt',\n",
       "       'Day_Process', 'Ph_No', 'Type_Loan', 'Dependents', 'Company_Rating',\n",
       "       'Region', 'Age', 'hour_Process', 'Addr_permanent', 'Permanent_Addr_tag',\n",
       "       'c1_rated', 'c2_rated', 'Contact_age', 'Product_bought'],\n",
       "      dtype='object')"
      ]
     },
     "execution_count": 17,
     "metadata": {},
     "output_type": "execute_result"
    }
   ],
   "source": [
    "df_test.columns = df_test.columns.str.replace('.', '_')\n",
    "df_test.columns"
   ]
  },
  {
   "cell_type": "code",
   "execution_count": 18,
   "metadata": {
    "colab": {
     "base_uri": "https://localhost:8080/",
     "height": 1000
    },
    "id": "Uo5ThLiV_SHL",
    "outputId": "c3e7ac34-5709-466b-c0a1-8a946b2af7f5",
    "scrolled": true
   },
   "outputs": [
    {
     "data": {
      "image/png": "[encoded data removed]",
      "text/plain": [
       "<Figure size 432x288 with 1 Axes>"
      ]
     },
     "metadata": {
      "needs_background": "light"
     },
     "output_type": "display_data"
    },
    {
     "data": {
      "image/png": "[encoded data removed]",
      "text/plain": [
       "<Figure size 432x288 with 1 Axes>"
      ]
     },
     "metadata": {
      "needs_background": "light"
     },
     "output_type": "display_data"
    },
    {
     "data": {
      "image/png": "[encoded data removed]",
      "text/plain": [
       "<Figure size 432x288 with 1 Axes>"
      ]
     },
     "metadata": {
      "needs_background": "light"
     },
     "output_type": "display_data"
    },
    {
     "data": {
      "image/png": "[encoded data removed]",
      "text/plain": [
       "<Figure size 432x288 with 1 Axes>"
      ]
     },
     "metadata": {
      "needs_background": "light"
     },
     "output_type": "display_data"
    },
    {
     "data": {
      "image/png": "[encoded data removed]",
      "text/plain": [
       "<Figure size 432x288 with 1 Axes>"
      ]
     },
     "metadata": {
      "needs_background": "light"
     },
     "output_type": "display_data"
    },
    {
     "data": {
      "image/png": "[encoded data removed]",
      "text/plain": [
       "<Figure size 432x288 with 1 Axes>"
      ]
     },
     "metadata": {
      "needs_background": "light"
     },
     "output_type": "display_data"
    },
    {
     "data": {
      "image/png": "[encoded data removed]",
      "text/plain": [
       "<Figure size 432x288 with 1 Axes>"
      ]
     },
     "metadata": {
      "needs_background": "light"
     },
     "output_type": "display_data"
    }
   ],
   "source": [
    "splot_cols=df_train.columns\n",
    "for i in splot_cols:\n",
    "    if df_train[i].dtype != 'object' and df_train[i].isnull().values.any() != True:\n",
    "        sns.boxplot(df_train[i])\n",
    "        plt.show()"
   ]
  },
  {
   "cell_type": "code",
   "execution_count": 19,
   "metadata": {
    "colab": {
     "base_uri": "https://localhost:8080/",
     "height": 1000
    },
    "id": "bfPgMIOM_SHM",
    "outputId": "945d4abb-071d-4793-f8b6-a758c32c8e59",
    "scrolled": true
   },
   "outputs": [
    {
     "data": {
      "image/png": "[encoded data removed]",
      "text/plain": [
       "<Figure size 432x288 with 1 Axes>"
      ]
     },
     "metadata": {
      "needs_background": "light"
     },
     "output_type": "display_data"
    },
    {
     "data": {
      "image/png": "[encoded data removed]",
      "text/plain": [
       "<Figure size 432x288 with 1 Axes>"
      ]
     },
     "metadata": {
      "needs_background": "light"
     },
     "output_type": "display_data"
    },
    {
     "data": {
      "image/png": "[encoded data removed]",
      "text/plain": [
       "<Figure size 432x288 with 1 Axes>"
      ]
     },
     "metadata": {
      "needs_background": "light"
     },
     "output_type": "display_data"
    },
    {
     "data": {
      "image/png": "[encoded data removed]",
      "text/plain": [
       "<Figure size 432x288 with 1 Axes>"
      ]
     },
     "metadata": {
      "needs_background": "light"
     },
     "output_type": "display_data"
    },
    {
     "data": {
      "image/png": "[encoded data removed]",
      "text/plain": [
       "<Figure size 432x288 with 1 Axes>"
      ]
     },
     "metadata": {
      "needs_background": "light"
     },
     "output_type": "display_data"
    },
    {
     "data": {
      "image/png": "[encoded data removed]",
      "text/plain": [
       "<Figure size 432x288 with 1 Axes>"
      ]
     },
     "metadata": {
      "needs_background": "light"
     },
     "output_type": "display_data"
    }
   ],
   "source": [
    "splot_cols=df_test.columns\n",
    "for i in splot_cols:\n",
    "    if df_test[i].dtype != 'object' and df_test[i].isnull().values.any() != True:\n",
    "        sns.boxplot(df_test[i])\n",
    "        plt.show()"
   ]
  },
  {
   "cell_type": "code",
   "execution_count": 20,
   "metadata": {
    "colab": {
     "base_uri": "https://localhost:8080/",
     "height": 1000
    },
    "id": "D4sfOnda_SHM",
    "outputId": "190b6e9b-dfca-4ab3-fae0-28da0939c0cc",
    "scrolled": true
   },
   "outputs": [
    {
     "data": {
      "image/png": "[encoded data removed]",
      "text/plain": [
       "<Figure size 1440x2160 with 16 Axes>"
      ]
     },
     "metadata": {
      "needs_background": "light"
     },
     "output_type": "display_data"
    }
   ],
   "source": [
    "df_train.hist(figsize=(20,30));"
   ]
  },
  {
   "cell_type": "code",
   "execution_count": 21,
   "metadata": {
    "colab": {
     "base_uri": "https://localhost:8080/",
     "height": 1000
    },
    "id": "pHEUEpaw_SHN",
    "outputId": "612ced81-4396-4433-ad49-75d47cd2a987",
    "scrolled": true
   },
   "outputs": [
    {
     "data": {
      "image/png": "[encoded data removed]",
      "text/plain": [
       "<Figure size 1440x2160 with 16 Axes>"
      ]
     },
     "metadata": {
      "needs_background": "light"
     },
     "output_type": "display_data"
    }
   ],
   "source": [
    "df_test.hist(figsize=(20,30));"
   ]
  },
  {
   "cell_type": "markdown",
   "metadata": {
    "colab": {
     "base_uri": "https://localhost:8080/",
     "height": 933
    },
    "id": "o0819EOP_SHN",
    "outputId": "33cf43c7-a8b6-4b9b-9cd2-f922a03d1add"
   },
   "source": [
    "sns.pairplot(df_train,diag_kind='kde',palette=\"tab10\")"
   ]
  },
  {
   "cell_type": "markdown",
   "metadata": {
    "colab": {
     "base_uri": "https://localhost:8080/",
     "height": 933
    },
    "id": "HmSZYnTG_SHN",
    "outputId": "1906c010-ef5e-4bed-f00b-1f3118844ebd"
   },
   "source": [
    "sns.pairplot(df_test,diag_kind='kde',palette=\"tab10\")"
   ]
  },
  {
   "cell_type": "markdown",
   "metadata": {
    "colab": {
     "base_uri": "https://localhost:8080/",
     "height": 615
    },
    "id": "eiK_cGwU_SHO",
    "outputId": "20d24a94-1546-44f0-9edb-8520bac180e7"
   },
   "source": [
    "df_train.corr()"
   ]
  },
  {
   "cell_type": "markdown",
   "metadata": {
    "colab": {
     "base_uri": "https://localhost:8080/",
     "height": 584
    },
    "id": "Gc0HmHvA_SHO",
    "outputId": "a69937ee-6935-491f-c510-8591c13956bf"
   },
   "source": [
    "df_test.corr()"
   ]
  },
  {
   "cell_type": "markdown",
   "metadata": {
    "colab": {
     "base_uri": "https://localhost:8080/",
     "height": 517
    },
    "id": "BkRTs_z1_SHO",
    "outputId": "b788ab13-3560-47c7-c4fc-922634daa038"
   },
   "source": [
    "plt.figure(figsize=(20,10))\n",
    "sns.heatmap(df_train.corr(), annot=True,mask=np.triu(df_train.corr(),+1))"
   ]
  },
  {
   "cell_type": "markdown",
   "metadata": {
    "colab": {
     "base_uri": "https://localhost:8080/",
     "height": 517
    },
    "id": "P_NyhRAE_SHP",
    "outputId": "a415b5a1-7d2e-464b-fe25-2c42a7c5707f"
   },
   "source": [
    "plt.figure(figsize=(20,10))\n",
    "sns.heatmap(df_test.corr(), annot=True,mask=np.triu(df_test.corr(),+1))"
   ]
  },
  {
   "cell_type": "markdown",
   "metadata": {
    "id": "2h9NxqxC_SHP"
   },
   "source": [
    "### Treating of Missing values\n",
    "\n",
    "Imputing the missing values"
   ]
  },
  {
   "cell_type": "code",
   "execution_count": null,
   "metadata": {
    "colab": {
     "base_uri": "https://localhost:8080/"
    },
    "id": "chzQGj6gCLFS",
    "outputId": "30552ba4-436d-49be-fd71-22ccd4db742f"
   },
   "outputs": [],
   "source": [
    "df_train = df_train.dropna(axis=0)\n",
    "df_train.shape"
   ]
  },
  {
   "cell_type": "code",
   "execution_count": null,
   "metadata": {
    "colab": {
     "base_uri": "https://localhost:8080/",
     "height": 488
    },
    "id": "EKqX0Kg5CK6t",
    "outputId": "572a0a16-f2bf-4c85-e093-b644ddae0bd0"
   },
   "outputs": [],
   "source": [
    "df_test = df_test.dropna(axis=0)\n",
    "df_test"
   ]
  },
  {
   "cell_type": "code",
   "execution_count": null,
   "metadata": {
    "id": "Jzi-YHkh_SHQ"
   },
   "outputs": [],
   "source": [
    "# for column in df_train.columns:\n",
    "#     if df_train[column].dtype != 'object':\n",
    "#         median = df_train[column].median()\n",
    "#         df_train[column] = df_train[column].fillna(median)    \n",
    "        \n",
    "# df_train.isnull().sum() "
   ]
  },
  {
   "cell_type": "code",
   "execution_count": null,
   "metadata": {
    "id": "SLO23_5K_SHR"
   },
   "outputs": [],
   "source": [
    "# for column in df_test.columns:\n",
    "#     if df_test[column].dtype != 'object':\n",
    "#         median = df_test[column].median()\n",
    "#         df_test[column] = df_test[column].fillna(median)    \n",
    "        \n",
    "# df_test.isnull().sum() "
   ]
  },
  {
   "cell_type": "code",
   "execution_count": null,
   "metadata": {
    "id": "Dwow38uR_SHR"
   },
   "outputs": [],
   "source": [
    "\n",
    "# for column in df_train:\n",
    "#     if df_train[column].dtype == 'object':\n",
    "#         if df_train[column].isnull().any():\n",
    "# #             if(column in cateogry_columns):\n",
    "#                 df_train[column]=df_train[column].fillna(df_train[column].mode()[0])\n",
    "# df_train.isnull().sum() "
   ]
  },
  {
   "cell_type": "code",
   "execution_count": null,
   "metadata": {
    "id": "aoRW1KKu_SHS"
   },
   "outputs": [],
   "source": [
    "\n",
    "# for column in df_test:\n",
    "#     if df_test[column].dtype == 'object':\n",
    "#         if df_test[column].isnull().any():\n",
    "# #             if(column in cateogry_columns):\n",
    "#                 df_test[column]=df_test[column].fillna(df_test[column].mode()[0])\n",
    "# df_test.isnull().sum() "
   ]
  },
  {
   "cell_type": "code",
   "execution_count": 22,
   "metadata": {
    "id": "7muqTPRX_SHS"
   },
   "outputs": [],
   "source": [
    "df_cat_train = df_train.select_dtypes(include = ['object'])\n",
    "df_num_train = df_train.select_dtypes(include = ['float64','int64'])"
   ]
  },
  {
   "cell_type": "code",
   "execution_count": 23,
   "metadata": {
    "id": "j221NK7n_SHS"
   },
   "outputs": [],
   "source": [
    "df_cat_test = df_test.select_dtypes(include = ['object'])\n",
    "df_num_test = df_test.select_dtypes(include = ['float64','int64'])"
   ]
  },
  {
   "cell_type": "code",
   "execution_count": null,
   "metadata": {
    "colab": {
     "base_uri": "https://localhost:8080/",
     "height": 288
    },
    "id": "odmMBV9i_SHS",
    "outputId": "bdd85d30-6290-43d7-9f62-98631a8f7981"
   },
   "outputs": [],
   "source": [
    "# df_cat_train = pd.get_dummies(df_cat_train, drop_first = True)\n",
    "# df_cat_train.head()"
   ]
  },
  {
   "cell_type": "code",
   "execution_count": null,
   "metadata": {
    "colab": {
     "base_uri": "https://localhost:8080/",
     "height": 288
    },
    "id": "zrEIAQAs_SHT",
    "outputId": "a6da5996-9ae3-4b1e-8502-07c8fc99118d"
   },
   "outputs": [],
   "source": [
    "# df_cat_test = pd.get_dummies(df_cat_test, drop_first = True)\n",
    "# df_cat_test.head()"
   ]
  },
  {
   "cell_type": "code",
   "execution_count": 24,
   "metadata": {
    "colab": {
     "base_uri": "https://localhost:8080/"
    },
    "id": "6lKdZgt5DewO",
    "outputId": "7b48ae5c-da02-457c-8a3a-1b14855dfae4"
   },
   "outputs": [
    {
     "data": {
      "text/plain": [
       "Index(['ID', 'Compensation', 'Loan_amt', 'Annuity_amt', 'density_Ind',\n",
       "       'Home_Appliances', 'Experience', 'Dependents', 'Company_Rating', 'Age',\n",
       "       'hour_Process', 'c1_rated', 'c2_rated', 'Contact_age', 'Product_bought',\n",
       "       'Default'],\n",
       "      dtype='object')"
      ]
     },
     "execution_count": 24,
     "metadata": {},
     "output_type": "execute_result"
    }
   ],
   "source": [
    "df_num_train.columns"
   ]
  },
  {
   "cell_type": "code",
   "execution_count": null,
   "metadata": {
    "colab": {
     "base_uri": "https://localhost:8080/",
     "height": 288
    },
    "id": "7EDBeU6p_SHT",
    "outputId": "ec30ec59-1dcf-4a4c-f704-9d9be7ed0f19"
   },
   "outputs": [],
   "source": [
    "df_train = pd.concat([df_cat_train,df_num_train],axis=1)\n",
    "df_train.head()"
   ]
  },
  {
   "cell_type": "code",
   "execution_count": null,
   "metadata": {
    "colab": {
     "base_uri": "https://localhost:8080/",
     "height": 288
    },
    "id": "dru7uT1F_SHT",
    "outputId": "812ac19e-ef80-44cb-de0e-c6035b1e5f5f"
   },
   "outputs": [],
   "source": [
    "df_test = pd.concat([df_cat_test,df_num_test],axis=1)\n",
    "df_test.head()"
   ]
  },
  {
   "cell_type": "code",
   "execution_count": null,
   "metadata": {
    "colab": {
     "base_uri": "https://localhost:8080/"
    },
    "id": "TQXxK1xp_SHU",
    "outputId": "b4ac27a2-f63e-4a0c-e661-f127fe9f1785"
   },
   "outputs": [],
   "source": [
    "df_train_copy = df_train.drop(columns=['ID'], axis=1)\n",
    "df_train_copy.info()"
   ]
  },
  {
   "cell_type": "code",
   "execution_count": null,
   "metadata": {
    "colab": {
     "base_uri": "https://localhost:8080/"
    },
    "id": "l-WyXcwI_SHU",
    "outputId": "f7408754-8591-4894-f5fe-7029657d0dd0"
   },
   "outputs": [],
   "source": [
    "test_file_ids = df_test['ID'] ## necessary step\n",
    "df_test_copy = df_test.drop(columns=['ID'], axis=1)\n",
    "df_test_copy.info()"
   ]
  },
  {
   "cell_type": "code",
   "execution_count": 25,
   "metadata": {},
   "outputs": [],
   "source": [
    "# Import label encoder\n",
    "from sklearn import preprocessing\n",
    "  \n",
    "# label_encoder object knows how to understand word labels.\n",
    "label_encoder = preprocessing.LabelEncoder()\n",
    "  \n",
    "# Encode labels in column 'species'.\n",
    "for i in df_cat_train:\n",
    "#     print(i)\n",
    "    df_cat_train[i] = label_encoder.fit_transform(df_cat_train[i])\n",
    "train_scaled = pd.concat([df_cat_train,df_num_train],axis=1)"
   ]
  },
  {
   "cell_type": "code",
   "execution_count": 36,
   "metadata": {},
   "outputs": [
    {
     "data": {
      "text/html": [
       "<div>\n",
       "<style scoped>\n",
       "    .dataframe tbody tr th:only-of-type {\n",
       "        vertical-align: middle;\n",
       "    }\n",
       "\n",
       "    .dataframe tbody tr th {\n",
       "        vertical-align: top;\n",
       "    }\n",
       "\n",
       "    .dataframe thead th {\n",
       "        text-align: right;\n",
       "    }\n",
       "</style>\n",
       "<table border=\"1\" class=\"dataframe\">\n",
       "  <thead>\n",
       "    <tr style=\"text-align: right;\">\n",
       "      <th></th>\n",
       "      <th>Vehicle_Status</th>\n",
       "      <th>Job_Type</th>\n",
       "      <th>Default_hist</th>\n",
       "      <th>Prop_List</th>\n",
       "      <th>Region_Type</th>\n",
       "      <th>Credit_Inq</th>\n",
       "      <th>Education_det</th>\n",
       "      <th>Marital_Stat</th>\n",
       "      <th>Gen</th>\n",
       "      <th>Credit_Lnks</th>\n",
       "      <th>Income_Alt</th>\n",
       "      <th>Day_Process</th>\n",
       "      <th>Ph_No</th>\n",
       "      <th>Type_Loan</th>\n",
       "      <th>Region</th>\n",
       "      <th>Addr_permanent</th>\n",
       "      <th>Permanent_Addr_tag</th>\n",
       "      <th>ID</th>\n",
       "      <th>Compensation</th>\n",
       "      <th>Loan_amt</th>\n",
       "      <th>Annuity_amt</th>\n",
       "      <th>density_Ind</th>\n",
       "      <th>Home_Appliances</th>\n",
       "      <th>Experience</th>\n",
       "      <th>Dependents</th>\n",
       "      <th>Company_Rating</th>\n",
       "      <th>Age</th>\n",
       "      <th>hour_Process</th>\n",
       "      <th>c1_rated</th>\n",
       "      <th>c2_rated</th>\n",
       "      <th>Contact_age</th>\n",
       "      <th>Product_bought</th>\n",
       "      <th>Default</th>\n",
       "    </tr>\n",
       "  </thead>\n",
       "  <tbody>\n",
       "    <tr>\n",
       "      <th>0</th>\n",
       "      <td>0.878943</td>\n",
       "      <td>-0.220088</td>\n",
       "      <td>0.333697</td>\n",
       "      <td>-1.863537</td>\n",
       "      <td>-0.459795</td>\n",
       "      <td>-0.818736</td>\n",
       "      <td>-0.624036</td>\n",
       "      <td>-0.303535</td>\n",
       "      <td>-1.385157</td>\n",
       "      <td>-0.340154</td>\n",
       "      <td>-0.640258</td>\n",
       "      <td>-1.087083</td>\n",
       "      <td>0.500094</td>\n",
       "      <td>-0.323000</td>\n",
       "      <td>-0.546527</td>\n",
       "      <td>0.291037</td>\n",
       "      <td>-2.135205</td>\n",
       "      <td>0.873049</td>\n",
       "      <td>NaN</td>\n",
       "      <td>0.885543</td>\n",
       "      <td>NaN</td>\n",
       "      <td>NaN</td>\n",
       "      <td>NaN</td>\n",
       "      <td>NaN</td>\n",
       "      <td>0.929036</td>\n",
       "      <td>NaN</td>\n",
       "      <td>0.172766</td>\n",
       "      <td>-0.577807</td>\n",
       "      <td>NaN</td>\n",
       "      <td>NaN</td>\n",
       "      <td>NaN</td>\n",
       "      <td>-0.638558</td>\n",
       "      <td>1.668403</td>\n",
       "    </tr>\n",
       "    <tr>\n",
       "      <th>1</th>\n",
       "      <td>-0.731873</td>\n",
       "      <td>-0.220088</td>\n",
       "      <td>0.333697</td>\n",
       "      <td>-1.863537</td>\n",
       "      <td>-0.459795</td>\n",
       "      <td>0.125049</td>\n",
       "      <td>-0.624036</td>\n",
       "      <td>-0.303535</td>\n",
       "      <td>0.721940</td>\n",
       "      <td>-0.340154</td>\n",
       "      <td>-0.640258</td>\n",
       "      <td>1.336800</td>\n",
       "      <td>0.500094</td>\n",
       "      <td>-0.323000</td>\n",
       "      <td>0.446804</td>\n",
       "      <td>0.291037</td>\n",
       "      <td>0.468339</td>\n",
       "      <td>0.387664</td>\n",
       "      <td>NaN</td>\n",
       "      <td>-0.789020</td>\n",
       "      <td>NaN</td>\n",
       "      <td>NaN</td>\n",
       "      <td>NaN</td>\n",
       "      <td>NaN</td>\n",
       "      <td>0.929036</td>\n",
       "      <td>NaN</td>\n",
       "      <td>0.172766</td>\n",
       "      <td>-0.017065</td>\n",
       "      <td>NaN</td>\n",
       "      <td>NaN</td>\n",
       "      <td>NaN</td>\n",
       "      <td>0.281728</td>\n",
       "      <td>-0.599376</td>\n",
       "    </tr>\n",
       "    <tr>\n",
       "      <th>2</th>\n",
       "      <td>-0.731873</td>\n",
       "      <td>-1.421492</td>\n",
       "      <td>0.333697</td>\n",
       "      <td>0.579696</td>\n",
       "      <td>-0.459795</td>\n",
       "      <td>1.068835</td>\n",
       "      <td>0.539372</td>\n",
       "      <td>-0.303535</td>\n",
       "      <td>0.721940</td>\n",
       "      <td>-0.340154</td>\n",
       "      <td>-0.640258</td>\n",
       "      <td>0.367246</td>\n",
       "      <td>0.500094</td>\n",
       "      <td>-0.323000</td>\n",
       "      <td>0.446804</td>\n",
       "      <td>0.291037</td>\n",
       "      <td>0.468339</td>\n",
       "      <td>0.303062</td>\n",
       "      <td>NaN</td>\n",
       "      <td>-1.142230</td>\n",
       "      <td>NaN</td>\n",
       "      <td>NaN</td>\n",
       "      <td>NaN</td>\n",
       "      <td>NaN</td>\n",
       "      <td>-0.171022</td>\n",
       "      <td>NaN</td>\n",
       "      <td>1.092294</td>\n",
       "      <td>-1.979663</td>\n",
       "      <td>NaN</td>\n",
       "      <td>NaN</td>\n",
       "      <td>NaN</td>\n",
       "      <td>0.281728</td>\n",
       "      <td>-0.599376</td>\n",
       "    </tr>\n",
       "    <tr>\n",
       "      <th>3</th>\n",
       "      <td>-0.731873</td>\n",
       "      <td>0.981316</td>\n",
       "      <td>-2.996733</td>\n",
       "      <td>-0.641921</td>\n",
       "      <td>-0.459795</td>\n",
       "      <td>-0.818736</td>\n",
       "      <td>-0.624036</td>\n",
       "      <td>-0.303535</td>\n",
       "      <td>0.721940</td>\n",
       "      <td>-0.340154</td>\n",
       "      <td>-0.640258</td>\n",
       "      <td>1.336800</td>\n",
       "      <td>0.500094</td>\n",
       "      <td>3.095971</td>\n",
       "      <td>1.440135</td>\n",
       "      <td>0.291037</td>\n",
       "      <td>0.468339</td>\n",
       "      <td>0.177942</td>\n",
       "      <td>NaN</td>\n",
       "      <td>-0.858436</td>\n",
       "      <td>NaN</td>\n",
       "      <td>NaN</td>\n",
       "      <td>NaN</td>\n",
       "      <td>NaN</td>\n",
       "      <td>2.029094</td>\n",
       "      <td>NaN</td>\n",
       "      <td>-0.412388</td>\n",
       "      <td>-0.017065</td>\n",
       "      <td>NaN</td>\n",
       "      <td>NaN</td>\n",
       "      <td>NaN</td>\n",
       "      <td>0.281728</td>\n",
       "      <td>-0.599376</td>\n",
       "    </tr>\n",
       "    <tr>\n",
       "      <th>4</th>\n",
       "      <td>0.878943</td>\n",
       "      <td>0.981316</td>\n",
       "      <td>0.333697</td>\n",
       "      <td>-1.863537</td>\n",
       "      <td>1.754094</td>\n",
       "      <td>0.125049</td>\n",
       "      <td>-0.624036</td>\n",
       "      <td>-0.303535</td>\n",
       "      <td>-1.385157</td>\n",
       "      <td>2.391801</td>\n",
       "      <td>1.046414</td>\n",
       "      <td>-0.602307</td>\n",
       "      <td>0.500094</td>\n",
       "      <td>-0.323000</td>\n",
       "      <td>0.446804</td>\n",
       "      <td>0.291037</td>\n",
       "      <td>0.468339</td>\n",
       "      <td>-0.863753</td>\n",
       "      <td>NaN</td>\n",
       "      <td>0.578547</td>\n",
       "      <td>NaN</td>\n",
       "      <td>NaN</td>\n",
       "      <td>NaN</td>\n",
       "      <td>NaN</td>\n",
       "      <td>0.929036</td>\n",
       "      <td>NaN</td>\n",
       "      <td>-0.997543</td>\n",
       "      <td>1.104420</td>\n",
       "      <td>NaN</td>\n",
       "      <td>NaN</td>\n",
       "      <td>NaN</td>\n",
       "      <td>1.202014</td>\n",
       "      <td>-0.599376</td>\n",
       "    </tr>\n",
       "  </tbody>\n",
       "</table>\n",
       "</div>"
      ],
      "text/plain": [
       "   Vehicle_Status  Job_Type  Default_hist  Prop_List  Region_Type  Credit_Inq  \\\n",
       "0        0.878943 -0.220088      0.333697  -1.863537    -0.459795   -0.818736   \n",
       "1       -0.731873 -0.220088      0.333697  -1.863537    -0.459795    0.125049   \n",
       "2       -0.731873 -1.421492      0.333697   0.579696    -0.459795    1.068835   \n",
       "3       -0.731873  0.981316     -2.996733  -0.641921    -0.459795   -0.818736   \n",
       "4        0.878943  0.981316      0.333697  -1.863537     1.754094    0.125049   \n",
       "\n",
       "   Education_det  Marital_Stat       Gen  Credit_Lnks  Income_Alt  \\\n",
       "0      -0.624036     -0.303535 -1.385157    -0.340154   -0.640258   \n",
       "1      -0.624036     -0.303535  0.721940    -0.340154   -0.640258   \n",
       "2       0.539372     -0.303535  0.721940    -0.340154   -0.640258   \n",
       "3      -0.624036     -0.303535  0.721940    -0.340154   -0.640258   \n",
       "4      -0.624036     -0.303535 -1.385157     2.391801    1.046414   \n",
       "\n",
       "   Day_Process     Ph_No  Type_Loan    Region  Addr_permanent  \\\n",
       "0    -1.087083  0.500094  -0.323000 -0.546527        0.291037   \n",
       "1     1.336800  0.500094  -0.323000  0.446804        0.291037   \n",
       "2     0.367246  0.500094  -0.323000  0.446804        0.291037   \n",
       "3     1.336800  0.500094   3.095971  1.440135        0.291037   \n",
       "4    -0.602307  0.500094  -0.323000  0.446804        0.291037   \n",
       "\n",
       "   Permanent_Addr_tag        ID  Compensation  Loan_amt  Annuity_amt  \\\n",
       "0           -2.135205  0.873049           NaN  0.885543          NaN   \n",
       "1            0.468339  0.387664           NaN -0.789020          NaN   \n",
       "2            0.468339  0.303062           NaN -1.142230          NaN   \n",
       "3            0.468339  0.177942           NaN -0.858436          NaN   \n",
       "4            0.468339 -0.863753           NaN  0.578547          NaN   \n",
       "\n",
       "   density_Ind  Home_Appliances  Experience  Dependents  Company_Rating  \\\n",
       "0          NaN              NaN         NaN    0.929036             NaN   \n",
       "1          NaN              NaN         NaN    0.929036             NaN   \n",
       "2          NaN              NaN         NaN   -0.171022             NaN   \n",
       "3          NaN              NaN         NaN    2.029094             NaN   \n",
       "4          NaN              NaN         NaN    0.929036             NaN   \n",
       "\n",
       "        Age  hour_Process  c1_rated  c2_rated  Contact_age  Product_bought  \\\n",
       "0  0.172766     -0.577807       NaN       NaN          NaN       -0.638558   \n",
       "1  0.172766     -0.017065       NaN       NaN          NaN        0.281728   \n",
       "2  1.092294     -1.979663       NaN       NaN          NaN        0.281728   \n",
       "3 -0.412388     -0.017065       NaN       NaN          NaN        0.281728   \n",
       "4 -0.997543      1.104420       NaN       NaN          NaN        1.202014   \n",
       "\n",
       "    Default  \n",
       "0  1.668403  \n",
       "1 -0.599376  \n",
       "2 -0.599376  \n",
       "3 -0.599376  \n",
       "4 -0.599376  "
      ]
     },
     "execution_count": 36,
     "metadata": {},
     "output_type": "execute_result"
    }
   ],
   "source": [
    "train_scaled.head()"
   ]
  },
  {
   "cell_type": "code",
   "execution_count": 27,
   "metadata": {
    "colab": {
     "base_uri": "https://localhost:8080/",
     "height": 288
    },
    "id": "R528UcH0H5z4",
    "outputId": "ef03591a-84f4-4998-c81a-2644b809eb44"
   },
   "outputs": [
    {
     "data": {
      "text/html": [
       "<div>\n",
       "<style scoped>\n",
       "    .dataframe tbody tr th:only-of-type {\n",
       "        vertical-align: middle;\n",
       "    }\n",
       "\n",
       "    .dataframe tbody tr th {\n",
       "        vertical-align: top;\n",
       "    }\n",
       "\n",
       "    .dataframe thead th {\n",
       "        text-align: right;\n",
       "    }\n",
       "</style>\n",
       "<table border=\"1\" class=\"dataframe\">\n",
       "  <thead>\n",
       "    <tr style=\"text-align: right;\">\n",
       "      <th></th>\n",
       "      <th>Vehicle_Status</th>\n",
       "      <th>Job_Type</th>\n",
       "      <th>Default_hist</th>\n",
       "      <th>Prop_List</th>\n",
       "      <th>Region_Type</th>\n",
       "      <th>Credit_Inq</th>\n",
       "      <th>Education_det</th>\n",
       "      <th>Marital_Stat</th>\n",
       "      <th>Gen</th>\n",
       "      <th>Credit_Lnks</th>\n",
       "      <th>Income_Alt</th>\n",
       "      <th>Day_Process</th>\n",
       "      <th>Ph_No</th>\n",
       "      <th>Type_Loan</th>\n",
       "      <th>Region</th>\n",
       "      <th>Addr_permanent</th>\n",
       "      <th>Permanent_Addr_tag</th>\n",
       "      <th>ID</th>\n",
       "      <th>Compensation</th>\n",
       "      <th>Loan_amt</th>\n",
       "      <th>Annuity_amt</th>\n",
       "      <th>density_Ind</th>\n",
       "      <th>Home_Appliances</th>\n",
       "      <th>Experience</th>\n",
       "      <th>Dependents</th>\n",
       "      <th>Company_Rating</th>\n",
       "      <th>Age</th>\n",
       "      <th>hour_Process</th>\n",
       "      <th>c1_rated</th>\n",
       "      <th>c2_rated</th>\n",
       "      <th>Contact_age</th>\n",
       "      <th>Product_bought</th>\n",
       "      <th>Default</th>\n",
       "    </tr>\n",
       "  </thead>\n",
       "  <tbody>\n",
       "    <tr>\n",
       "      <th>0</th>\n",
       "      <td>0.878943</td>\n",
       "      <td>-0.220088</td>\n",
       "      <td>0.333697</td>\n",
       "      <td>-1.863537</td>\n",
       "      <td>-0.459795</td>\n",
       "      <td>-0.818736</td>\n",
       "      <td>-0.624036</td>\n",
       "      <td>-0.303535</td>\n",
       "      <td>-1.385157</td>\n",
       "      <td>-0.340154</td>\n",
       "      <td>-0.640258</td>\n",
       "      <td>-1.087083</td>\n",
       "      <td>0.500094</td>\n",
       "      <td>-0.323000</td>\n",
       "      <td>-0.546527</td>\n",
       "      <td>0.291037</td>\n",
       "      <td>-2.135205</td>\n",
       "      <td>0.873049</td>\n",
       "      <td>NaN</td>\n",
       "      <td>0.885543</td>\n",
       "      <td>NaN</td>\n",
       "      <td>NaN</td>\n",
       "      <td>NaN</td>\n",
       "      <td>NaN</td>\n",
       "      <td>0.929036</td>\n",
       "      <td>NaN</td>\n",
       "      <td>0.172766</td>\n",
       "      <td>-0.577807</td>\n",
       "      <td>NaN</td>\n",
       "      <td>NaN</td>\n",
       "      <td>NaN</td>\n",
       "      <td>-0.638558</td>\n",
       "      <td>1.668403</td>\n",
       "    </tr>\n",
       "    <tr>\n",
       "      <th>1</th>\n",
       "      <td>-0.731873</td>\n",
       "      <td>-0.220088</td>\n",
       "      <td>0.333697</td>\n",
       "      <td>-1.863537</td>\n",
       "      <td>-0.459795</td>\n",
       "      <td>0.125049</td>\n",
       "      <td>-0.624036</td>\n",
       "      <td>-0.303535</td>\n",
       "      <td>0.721940</td>\n",
       "      <td>-0.340154</td>\n",
       "      <td>-0.640258</td>\n",
       "      <td>1.336800</td>\n",
       "      <td>0.500094</td>\n",
       "      <td>-0.323000</td>\n",
       "      <td>0.446804</td>\n",
       "      <td>0.291037</td>\n",
       "      <td>0.468339</td>\n",
       "      <td>0.387664</td>\n",
       "      <td>NaN</td>\n",
       "      <td>-0.789020</td>\n",
       "      <td>NaN</td>\n",
       "      <td>NaN</td>\n",
       "      <td>NaN</td>\n",
       "      <td>NaN</td>\n",
       "      <td>0.929036</td>\n",
       "      <td>NaN</td>\n",
       "      <td>0.172766</td>\n",
       "      <td>-0.017065</td>\n",
       "      <td>NaN</td>\n",
       "      <td>NaN</td>\n",
       "      <td>NaN</td>\n",
       "      <td>0.281728</td>\n",
       "      <td>-0.599376</td>\n",
       "    </tr>\n",
       "    <tr>\n",
       "      <th>2</th>\n",
       "      <td>-0.731873</td>\n",
       "      <td>-1.421492</td>\n",
       "      <td>0.333697</td>\n",
       "      <td>0.579696</td>\n",
       "      <td>-0.459795</td>\n",
       "      <td>1.068835</td>\n",
       "      <td>0.539372</td>\n",
       "      <td>-0.303535</td>\n",
       "      <td>0.721940</td>\n",
       "      <td>-0.340154</td>\n",
       "      <td>-0.640258</td>\n",
       "      <td>0.367246</td>\n",
       "      <td>0.500094</td>\n",
       "      <td>-0.323000</td>\n",
       "      <td>0.446804</td>\n",
       "      <td>0.291037</td>\n",
       "      <td>0.468339</td>\n",
       "      <td>0.303062</td>\n",
       "      <td>NaN</td>\n",
       "      <td>-1.142230</td>\n",
       "      <td>NaN</td>\n",
       "      <td>NaN</td>\n",
       "      <td>NaN</td>\n",
       "      <td>NaN</td>\n",
       "      <td>-0.171022</td>\n",
       "      <td>NaN</td>\n",
       "      <td>1.092294</td>\n",
       "      <td>-1.979663</td>\n",
       "      <td>NaN</td>\n",
       "      <td>NaN</td>\n",
       "      <td>NaN</td>\n",
       "      <td>0.281728</td>\n",
       "      <td>-0.599376</td>\n",
       "    </tr>\n",
       "    <tr>\n",
       "      <th>3</th>\n",
       "      <td>-0.731873</td>\n",
       "      <td>0.981316</td>\n",
       "      <td>-2.996733</td>\n",
       "      <td>-0.641921</td>\n",
       "      <td>-0.459795</td>\n",
       "      <td>-0.818736</td>\n",
       "      <td>-0.624036</td>\n",
       "      <td>-0.303535</td>\n",
       "      <td>0.721940</td>\n",
       "      <td>-0.340154</td>\n",
       "      <td>-0.640258</td>\n",
       "      <td>1.336800</td>\n",
       "      <td>0.500094</td>\n",
       "      <td>3.095971</td>\n",
       "      <td>1.440135</td>\n",
       "      <td>0.291037</td>\n",
       "      <td>0.468339</td>\n",
       "      <td>0.177942</td>\n",
       "      <td>NaN</td>\n",
       "      <td>-0.858436</td>\n",
       "      <td>NaN</td>\n",
       "      <td>NaN</td>\n",
       "      <td>NaN</td>\n",
       "      <td>NaN</td>\n",
       "      <td>2.029094</td>\n",
       "      <td>NaN</td>\n",
       "      <td>-0.412388</td>\n",
       "      <td>-0.017065</td>\n",
       "      <td>NaN</td>\n",
       "      <td>NaN</td>\n",
       "      <td>NaN</td>\n",
       "      <td>0.281728</td>\n",
       "      <td>-0.599376</td>\n",
       "    </tr>\n",
       "    <tr>\n",
       "      <th>4</th>\n",
       "      <td>0.878943</td>\n",
       "      <td>0.981316</td>\n",
       "      <td>0.333697</td>\n",
       "      <td>-1.863537</td>\n",
       "      <td>1.754094</td>\n",
       "      <td>0.125049</td>\n",
       "      <td>-0.624036</td>\n",
       "      <td>-0.303535</td>\n",
       "      <td>-1.385157</td>\n",
       "      <td>2.391801</td>\n",
       "      <td>1.046414</td>\n",
       "      <td>-0.602307</td>\n",
       "      <td>0.500094</td>\n",
       "      <td>-0.323000</td>\n",
       "      <td>0.446804</td>\n",
       "      <td>0.291037</td>\n",
       "      <td>0.468339</td>\n",
       "      <td>-0.863753</td>\n",
       "      <td>NaN</td>\n",
       "      <td>0.578547</td>\n",
       "      <td>NaN</td>\n",
       "      <td>NaN</td>\n",
       "      <td>NaN</td>\n",
       "      <td>NaN</td>\n",
       "      <td>0.929036</td>\n",
       "      <td>NaN</td>\n",
       "      <td>-0.997543</td>\n",
       "      <td>1.104420</td>\n",
       "      <td>NaN</td>\n",
       "      <td>NaN</td>\n",
       "      <td>NaN</td>\n",
       "      <td>1.202014</td>\n",
       "      <td>-0.599376</td>\n",
       "    </tr>\n",
       "  </tbody>\n",
       "</table>\n",
       "</div>"
      ],
      "text/plain": [
       "   Vehicle_Status  Job_Type  Default_hist  Prop_List  Region_Type  Credit_Inq  \\\n",
       "0        0.878943 -0.220088      0.333697  -1.863537    -0.459795   -0.818736   \n",
       "1       -0.731873 -0.220088      0.333697  -1.863537    -0.459795    0.125049   \n",
       "2       -0.731873 -1.421492      0.333697   0.579696    -0.459795    1.068835   \n",
       "3       -0.731873  0.981316     -2.996733  -0.641921    -0.459795   -0.818736   \n",
       "4        0.878943  0.981316      0.333697  -1.863537     1.754094    0.125049   \n",
       "\n",
       "   Education_det  Marital_Stat       Gen  Credit_Lnks  Income_Alt  \\\n",
       "0      -0.624036     -0.303535 -1.385157    -0.340154   -0.640258   \n",
       "1      -0.624036     -0.303535  0.721940    -0.340154   -0.640258   \n",
       "2       0.539372     -0.303535  0.721940    -0.340154   -0.640258   \n",
       "3      -0.624036     -0.303535  0.721940    -0.340154   -0.640258   \n",
       "4      -0.624036     -0.303535 -1.385157     2.391801    1.046414   \n",
       "\n",
       "   Day_Process     Ph_No  Type_Loan    Region  Addr_permanent  \\\n",
       "0    -1.087083  0.500094  -0.323000 -0.546527        0.291037   \n",
       "1     1.336800  0.500094  -0.323000  0.446804        0.291037   \n",
       "2     0.367246  0.500094  -0.323000  0.446804        0.291037   \n",
       "3     1.336800  0.500094   3.095971  1.440135        0.291037   \n",
       "4    -0.602307  0.500094  -0.323000  0.446804        0.291037   \n",
       "\n",
       "   Permanent_Addr_tag        ID  Compensation  Loan_amt  Annuity_amt  \\\n",
       "0           -2.135205  0.873049           NaN  0.885543          NaN   \n",
       "1            0.468339  0.387664           NaN -0.789020          NaN   \n",
       "2            0.468339  0.303062           NaN -1.142230          NaN   \n",
       "3            0.468339  0.177942           NaN -0.858436          NaN   \n",
       "4            0.468339 -0.863753           NaN  0.578547          NaN   \n",
       "\n",
       "   density_Ind  Home_Appliances  Experience  Dependents  Company_Rating  \\\n",
       "0          NaN              NaN         NaN    0.929036             NaN   \n",
       "1          NaN              NaN         NaN    0.929036             NaN   \n",
       "2          NaN              NaN         NaN   -0.171022             NaN   \n",
       "3          NaN              NaN         NaN    2.029094             NaN   \n",
       "4          NaN              NaN         NaN    0.929036             NaN   \n",
       "\n",
       "        Age  hour_Process  c1_rated  c2_rated  Contact_age  Product_bought  \\\n",
       "0  0.172766     -0.577807       NaN       NaN          NaN       -0.638558   \n",
       "1  0.172766     -0.017065       NaN       NaN          NaN        0.281728   \n",
       "2  1.092294     -1.979663       NaN       NaN          NaN        0.281728   \n",
       "3 -0.412388     -0.017065       NaN       NaN          NaN        0.281728   \n",
       "4 -0.997543      1.104420       NaN       NaN          NaN        1.202014   \n",
       "\n",
       "    Default  \n",
       "0  1.668403  \n",
       "1 -0.599376  \n",
       "2 -0.599376  \n",
       "3 -0.599376  \n",
       "4 -0.599376  "
      ]
     },
     "execution_count": 27,
     "metadata": {},
     "output_type": "execute_result"
    }
   ],
   "source": [
    "from scipy.stats import zscore\n",
    "train_scaled = train_scaled.apply(zscore)\n",
    "# train_scaled = pd.concat([df_cat_train,df_num_train],axis=1)\n",
    "train_scaled.head()"
   ]
  },
  {
   "cell_type": "code",
   "execution_count": null,
   "metadata": {
    "id": "Sxz7n0DSIQ2M"
   },
   "outputs": [],
   "source": [
    "# df_num_test = df_num_test.apply(zscore)\n",
    "# df_test = pd.concat([df_cat_test,df_num_test],axis=1)\n",
    "# test_scaled = df_test.apply(zscore)"
   ]
  },
  {
   "cell_type": "code",
   "execution_count": 28,
   "metadata": {
    "id": "T8ptnt8O_SHU"
   },
   "outputs": [],
   "source": [
    "x = train_scaled.drop('Default', axis=1)\n",
    "\n",
    "y = train_scaled['Default']"
   ]
  },
  {
   "cell_type": "code",
   "execution_count": 29,
   "metadata": {
    "colab": {
     "base_uri": "https://localhost:8080/"
    },
    "id": "C7E9ymkr_SHU",
    "outputId": "864422d4-99af-494f-c61f-7358e57bd420"
   },
   "outputs": [
    {
     "data": {
      "text/plain": [
       "(105952, 32)"
      ]
     },
     "execution_count": 29,
     "metadata": {},
     "output_type": "execute_result"
    }
   ],
   "source": [
    "x_train, x_test, y_train, y_test = train_test_split(x, y, test_size=0.2 , random_state=42,stratify=y)\n",
    "x_train.shape"
   ]
  },
  {
   "cell_type": "code",
   "execution_count": 30,
   "metadata": {
    "colab": {
     "base_uri": "https://localhost:8080/"
    },
    "id": "kp1kSsL7_SHV",
    "outputId": "c01d11ad-eee5-4c7e-c93f-0ef236c1341b"
   },
   "outputs": [
    {
     "data": {
      "text/plain": [
       "(105952,)"
      ]
     },
     "execution_count": 30,
     "metadata": {},
     "output_type": "execute_result"
    }
   ],
   "source": [
    "y_train.shape"
   ]
  },
  {
   "cell_type": "code",
   "execution_count": 31,
   "metadata": {
    "colab": {
     "base_uri": "https://localhost:8080/"
    },
    "id": "ast0lhYE_SHV",
    "outputId": "b42c2bae-30b4-4f77-8d8a-cca2a9668b9c"
   },
   "outputs": [
    {
     "data": {
      "text/plain": [
       "(26488, 32)"
      ]
     },
     "execution_count": 31,
     "metadata": {},
     "output_type": "execute_result"
    }
   ],
   "source": [
    "x_test.shape"
   ]
  },
  {
   "cell_type": "code",
   "execution_count": 32,
   "metadata": {
    "colab": {
     "base_uri": "https://localhost:8080/"
    },
    "id": "Gk4aguwr_SHV",
    "outputId": "9a604c37-8dda-42b5-ca19-d999c05c1e48"
   },
   "outputs": [
    {
     "data": {
      "text/plain": [
       "(26488,)"
      ]
     },
     "execution_count": 32,
     "metadata": {},
     "output_type": "execute_result"
    }
   ],
   "source": [
    "y_test.shape"
   ]
  },
  {
   "cell_type": "markdown",
   "metadata": {
    "id": "HjNOzCeJ_SHV"
   },
   "source": [
    "### Logistic Regression"
   ]
  },
  {
   "cell_type": "code",
   "execution_count": 33,
   "metadata": {
    "id": "axcQomYm_SHW"
   },
   "outputs": [],
   "source": [
    "grid={'penalty':['l1','l2','none'],\n",
    "      'solver':['liblinear'],\n",
    "      'tol':[0.0001,0.00001,0.000001]}"
   ]
  },
  {
   "cell_type": "code",
   "execution_count": 34,
   "metadata": {
    "id": "OMAx-Cn9_SHW"
   },
   "outputs": [],
   "source": [
    "from sklearn.linear_model import LogisticRegression\n",
    "model = LogisticRegression(max_iter=100000,n_jobs=2)"
   ]
  },
  {
   "cell_type": "code",
   "execution_count": 35,
   "metadata": {
    "colab": {
     "base_uri": "https://localhost:8080/",
     "height": 328
    },
    "id": "g4GVk8a1_SHW",
    "outputId": "e53be17c-9b26-4344-c781-7dd0590126f5"
   },
   "outputs": [
    {
     "ename": "ValueError",
     "evalue": "Input contains NaN, infinity or a value too large for dtype('float64').",
     "output_type": "error",
     "traceback": [
      "\u001b[1;31m---------------------------------------------------------------------------\u001b[0m",
      "\u001b[1;31mValueError\u001b[0m                                Traceback (most recent call last)",
      "\u001b[1;32m<ipython-input-35-a3a6b4c55793>\u001b[0m in \u001b[0;36m<module>\u001b[1;34m\u001b[0m\n\u001b[0;32m      1\u001b[0m \u001b[0mgrid_search\u001b[0m \u001b[1;33m=\u001b[0m \u001b[0mGridSearchCV\u001b[0m\u001b[1;33m(\u001b[0m\u001b[0mestimator\u001b[0m \u001b[1;33m=\u001b[0m \u001b[0mmodel\u001b[0m\u001b[1;33m,\u001b[0m \u001b[0mparam_grid\u001b[0m \u001b[1;33m=\u001b[0m \u001b[0mgrid\u001b[0m\u001b[1;33m,\u001b[0m \u001b[0mcv\u001b[0m \u001b[1;33m=\u001b[0m \u001b[1;36m3\u001b[0m\u001b[1;33m,\u001b[0m\u001b[0mn_jobs\u001b[0m\u001b[1;33m=\u001b[0m\u001b[1;33m-\u001b[0m\u001b[1;36m1\u001b[0m\u001b[1;33m,\u001b[0m\u001b[0mscoring\u001b[0m\u001b[1;33m=\u001b[0m\u001b[1;34m'f1'\u001b[0m\u001b[1;33m)\u001b[0m\u001b[1;33m\u001b[0m\u001b[1;33m\u001b[0m\u001b[0m\n\u001b[1;32m----> 2\u001b[1;33m \u001b[0mgrid_search\u001b[0m\u001b[1;33m.\u001b[0m\u001b[0mfit\u001b[0m\u001b[1;33m(\u001b[0m\u001b[0mx_train\u001b[0m\u001b[1;33m,\u001b[0m \u001b[0my_train\u001b[0m\u001b[1;33m)\u001b[0m\u001b[1;33m\u001b[0m\u001b[1;33m\u001b[0m\u001b[0m\n\u001b[0m",
      "\u001b[1;32m~\\AppData\\Roaming\\Python\\Python37\\site-packages\\sklearn\\model_selection\\_search.py\u001b[0m in \u001b[0;36mfit\u001b[1;34m(self, X, y, groups, **fit_params)\u001b[0m\n\u001b[0;32m    924\u001b[0m             \u001b[0mrefit_start_time\u001b[0m \u001b[1;33m=\u001b[0m \u001b[0mtime\u001b[0m\u001b[1;33m.\u001b[0m\u001b[0mtime\u001b[0m\u001b[1;33m(\u001b[0m\u001b[1;33m)\u001b[0m\u001b[1;33m\u001b[0m\u001b[1;33m\u001b[0m\u001b[0m\n\u001b[0;32m    925\u001b[0m             \u001b[1;32mif\u001b[0m \u001b[0my\u001b[0m \u001b[1;32mis\u001b[0m \u001b[1;32mnot\u001b[0m \u001b[1;32mNone\u001b[0m\u001b[1;33m:\u001b[0m\u001b[1;33m\u001b[0m\u001b[1;33m\u001b[0m\u001b[0m\n\u001b[1;32m--> 926\u001b[1;33m                 \u001b[0mself\u001b[0m\u001b[1;33m.\u001b[0m\u001b[0mbest_estimator_\u001b[0m\u001b[1;33m.\u001b[0m\u001b[0mfit\u001b[0m\u001b[1;33m(\u001b[0m\u001b[0mX\u001b[0m\u001b[1;33m,\u001b[0m \u001b[0my\u001b[0m\u001b[1;33m,\u001b[0m \u001b[1;33m**\u001b[0m\u001b[0mfit_params\u001b[0m\u001b[1;33m)\u001b[0m\u001b[1;33m\u001b[0m\u001b[1;33m\u001b[0m\u001b[0m\n\u001b[0m\u001b[0;32m    927\u001b[0m             \u001b[1;32melse\u001b[0m\u001b[1;33m:\u001b[0m\u001b[1;33m\u001b[0m\u001b[1;33m\u001b[0m\u001b[0m\n\u001b[0;32m    928\u001b[0m                 \u001b[0mself\u001b[0m\u001b[1;33m.\u001b[0m\u001b[0mbest_estimator_\u001b[0m\u001b[1;33m.\u001b[0m\u001b[0mfit\u001b[0m\u001b[1;33m(\u001b[0m\u001b[0mX\u001b[0m\u001b[1;33m,\u001b[0m \u001b[1;33m**\u001b[0m\u001b[0mfit_params\u001b[0m\u001b[1;33m)\u001b[0m\u001b[1;33m\u001b[0m\u001b[1;33m\u001b[0m\u001b[0m\n",
      "\u001b[1;32m~\\AppData\\Roaming\\Python\\Python37\\site-packages\\sklearn\\linear_model\\_logistic.py\u001b[0m in \u001b[0;36mfit\u001b[1;34m(self, X, y, sample_weight)\u001b[0m\n\u001b[0;32m   1512\u001b[0m             \u001b[0mdtype\u001b[0m\u001b[1;33m=\u001b[0m\u001b[0m_dtype\u001b[0m\u001b[1;33m,\u001b[0m\u001b[1;33m\u001b[0m\u001b[1;33m\u001b[0m\u001b[0m\n\u001b[0;32m   1513\u001b[0m             \u001b[0morder\u001b[0m\u001b[1;33m=\u001b[0m\u001b[1;34m\"C\"\u001b[0m\u001b[1;33m,\u001b[0m\u001b[1;33m\u001b[0m\u001b[1;33m\u001b[0m\u001b[0m\n\u001b[1;32m-> 1514\u001b[1;33m             \u001b[0maccept_large_sparse\u001b[0m\u001b[1;33m=\u001b[0m\u001b[0msolver\u001b[0m \u001b[1;32mnot\u001b[0m \u001b[1;32min\u001b[0m \u001b[1;33m[\u001b[0m\u001b[1;34m\"liblinear\"\u001b[0m\u001b[1;33m,\u001b[0m \u001b[1;34m\"sag\"\u001b[0m\u001b[1;33m,\u001b[0m \u001b[1;34m\"saga\"\u001b[0m\u001b[1;33m]\u001b[0m\u001b[1;33m,\u001b[0m\u001b[1;33m\u001b[0m\u001b[1;33m\u001b[0m\u001b[0m\n\u001b[0m\u001b[0;32m   1515\u001b[0m         )\n\u001b[0;32m   1516\u001b[0m         \u001b[0mcheck_classification_targets\u001b[0m\u001b[1;33m(\u001b[0m\u001b[0my\u001b[0m\u001b[1;33m)\u001b[0m\u001b[1;33m\u001b[0m\u001b[1;33m\u001b[0m\u001b[0m\n",
      "\u001b[1;32m~\\AppData\\Roaming\\Python\\Python37\\site-packages\\sklearn\\base.py\u001b[0m in \u001b[0;36m_validate_data\u001b[1;34m(self, X, y, reset, validate_separately, **check_params)\u001b[0m\n\u001b[0;32m    579\u001b[0m                 \u001b[0my\u001b[0m \u001b[1;33m=\u001b[0m \u001b[0mcheck_array\u001b[0m\u001b[1;33m(\u001b[0m\u001b[0my\u001b[0m\u001b[1;33m,\u001b[0m \u001b[1;33m**\u001b[0m\u001b[0mcheck_y_params\u001b[0m\u001b[1;33m)\u001b[0m\u001b[1;33m\u001b[0m\u001b[1;33m\u001b[0m\u001b[0m\n\u001b[0;32m    580\u001b[0m             \u001b[1;32melse\u001b[0m\u001b[1;33m:\u001b[0m\u001b[1;33m\u001b[0m\u001b[1;33m\u001b[0m\u001b[0m\n\u001b[1;32m--> 581\u001b[1;33m                 \u001b[0mX\u001b[0m\u001b[1;33m,\u001b[0m \u001b[0my\u001b[0m \u001b[1;33m=\u001b[0m \u001b[0mcheck_X_y\u001b[0m\u001b[1;33m(\u001b[0m\u001b[0mX\u001b[0m\u001b[1;33m,\u001b[0m \u001b[0my\u001b[0m\u001b[1;33m,\u001b[0m \u001b[1;33m**\u001b[0m\u001b[0mcheck_params\u001b[0m\u001b[1;33m)\u001b[0m\u001b[1;33m\u001b[0m\u001b[1;33m\u001b[0m\u001b[0m\n\u001b[0m\u001b[0;32m    582\u001b[0m             \u001b[0mout\u001b[0m \u001b[1;33m=\u001b[0m \u001b[0mX\u001b[0m\u001b[1;33m,\u001b[0m \u001b[0my\u001b[0m\u001b[1;33m\u001b[0m\u001b[1;33m\u001b[0m\u001b[0m\n\u001b[0;32m    583\u001b[0m \u001b[1;33m\u001b[0m\u001b[0m\n",
      "\u001b[1;32m~\\AppData\\Roaming\\Python\\Python37\\site-packages\\sklearn\\utils\\validation.py\u001b[0m in \u001b[0;36mcheck_X_y\u001b[1;34m(X, y, accept_sparse, accept_large_sparse, dtype, order, copy, force_all_finite, ensure_2d, allow_nd, multi_output, ensure_min_samples, ensure_min_features, y_numeric, estimator)\u001b[0m\n\u001b[0;32m    974\u001b[0m         \u001b[0mensure_min_samples\u001b[0m\u001b[1;33m=\u001b[0m\u001b[0mensure_min_samples\u001b[0m\u001b[1;33m,\u001b[0m\u001b[1;33m\u001b[0m\u001b[1;33m\u001b[0m\u001b[0m\n\u001b[0;32m    975\u001b[0m         \u001b[0mensure_min_features\u001b[0m\u001b[1;33m=\u001b[0m\u001b[0mensure_min_features\u001b[0m\u001b[1;33m,\u001b[0m\u001b[1;33m\u001b[0m\u001b[1;33m\u001b[0m\u001b[0m\n\u001b[1;32m--> 976\u001b[1;33m         \u001b[0mestimator\u001b[0m\u001b[1;33m=\u001b[0m\u001b[0mestimator\u001b[0m\u001b[1;33m,\u001b[0m\u001b[1;33m\u001b[0m\u001b[1;33m\u001b[0m\u001b[0m\n\u001b[0m\u001b[0;32m    977\u001b[0m     )\n\u001b[0;32m    978\u001b[0m \u001b[1;33m\u001b[0m\u001b[0m\n",
      "\u001b[1;32m~\\AppData\\Roaming\\Python\\Python37\\site-packages\\sklearn\\utils\\validation.py\u001b[0m in \u001b[0;36mcheck_array\u001b[1;34m(array, accept_sparse, accept_large_sparse, dtype, order, copy, force_all_finite, ensure_2d, allow_nd, ensure_min_samples, ensure_min_features, estimator)\u001b[0m\n\u001b[0;32m    798\u001b[0m \u001b[1;33m\u001b[0m\u001b[0m\n\u001b[0;32m    799\u001b[0m         \u001b[1;32mif\u001b[0m \u001b[0mforce_all_finite\u001b[0m\u001b[1;33m:\u001b[0m\u001b[1;33m\u001b[0m\u001b[1;33m\u001b[0m\u001b[0m\n\u001b[1;32m--> 800\u001b[1;33m             \u001b[0m_assert_all_finite\u001b[0m\u001b[1;33m(\u001b[0m\u001b[0marray\u001b[0m\u001b[1;33m,\u001b[0m \u001b[0mallow_nan\u001b[0m\u001b[1;33m=\u001b[0m\u001b[0mforce_all_finite\u001b[0m \u001b[1;33m==\u001b[0m \u001b[1;34m\"allow-nan\"\u001b[0m\u001b[1;33m)\u001b[0m\u001b[1;33m\u001b[0m\u001b[1;33m\u001b[0m\u001b[0m\n\u001b[0m\u001b[0;32m    801\u001b[0m \u001b[1;33m\u001b[0m\u001b[0m\n\u001b[0;32m    802\u001b[0m     \u001b[1;32mif\u001b[0m \u001b[0mensure_min_samples\u001b[0m \u001b[1;33m>\u001b[0m \u001b[1;36m0\u001b[0m\u001b[1;33m:\u001b[0m\u001b[1;33m\u001b[0m\u001b[1;33m\u001b[0m\u001b[0m\n",
      "\u001b[1;32m~\\AppData\\Roaming\\Python\\Python37\\site-packages\\sklearn\\utils\\validation.py\u001b[0m in \u001b[0;36m_assert_all_finite\u001b[1;34m(X, allow_nan, msg_dtype)\u001b[0m\n\u001b[0;32m    114\u001b[0m             raise ValueError(\n\u001b[0;32m    115\u001b[0m                 msg_err.format(\n\u001b[1;32m--> 116\u001b[1;33m                     \u001b[0mtype_err\u001b[0m\u001b[1;33m,\u001b[0m \u001b[0mmsg_dtype\u001b[0m \u001b[1;32mif\u001b[0m \u001b[0mmsg_dtype\u001b[0m \u001b[1;32mis\u001b[0m \u001b[1;32mnot\u001b[0m \u001b[1;32mNone\u001b[0m \u001b[1;32melse\u001b[0m \u001b[0mX\u001b[0m\u001b[1;33m.\u001b[0m\u001b[0mdtype\u001b[0m\u001b[1;33m\u001b[0m\u001b[1;33m\u001b[0m\u001b[0m\n\u001b[0m\u001b[0;32m    117\u001b[0m                 )\n\u001b[0;32m    118\u001b[0m             )\n",
      "\u001b[1;31mValueError\u001b[0m: Input contains NaN, infinity or a value too large for dtype('float64')."
     ]
    }
   ],
   "source": [
    "grid_search = GridSearchCV(estimator = model, param_grid = grid, cv = 3,n_jobs=-1,scoring='f1')\n",
    "grid_search.fit(x_train, y_train)"
   ]
  },
  {
   "cell_type": "code",
   "execution_count": null,
   "metadata": {
    "id": "FoGBtqu4_SHW"
   },
   "outputs": [],
   "source": [
    "grid_search.best_params_"
   ]
  },
  {
   "cell_type": "code",
   "execution_count": null,
   "metadata": {
    "id": "LtOPhCv-flD3"
   },
   "outputs": [],
   "source": [
    "best_model = grid_search.best_estimator_\n",
    "best_model"
   ]
  },
  {
   "cell_type": "code",
   "execution_count": null,
   "metadata": {
    "id": "GZirlXNej98M"
   },
   "outputs": [],
   "source": [
    "ytrain_predict = best_model.predict(x_train)\n",
    "ytrain_predict"
   ]
  },
  {
   "cell_type": "code",
   "execution_count": null,
   "metadata": {
    "id": "jaoBoYNakEzS"
   },
   "outputs": [],
   "source": [
    "ytest_predict = best_model.predict(x_test)\n",
    "ytest_predict"
   ]
  },
  {
   "cell_type": "code",
   "execution_count": null,
   "metadata": {
    "id": "ZtwIEywCkE2E"
   },
   "outputs": [],
   "source": [
    "Logistic_regression = grid_search.score(x_test, y_test)\n",
    "Logistic_regression"
   ]
  },
  {
   "cell_type": "code",
   "execution_count": null,
   "metadata": {
    "id": "NPzMQxATCpbX"
   },
   "outputs": [],
   "source": [
    "print(classification_report(y_train, ytrain_predict),'\\n')"
   ]
  },
  {
   "cell_type": "code",
   "execution_count": null,
   "metadata": {
    "id": "66Hq09nqkE4X"
   },
   "outputs": [],
   "source": [
    "print(classification_report(y_test, ytest_predict),'\\n')"
   ]
  },
  {
   "cell_type": "code",
   "execution_count": null,
   "metadata": {
    "id": "0N0FVPqPkE79"
   },
   "outputs": [],
   "source": [
    "lr_metrics=classification_report(y_train, ytrain_predict,output_dict=True)\n",
    "dftra=pd.DataFrame(lr_metrics).transpose()\n",
    "lr_test_f1=round(dftra.loc[\"1.0\"][2],2)\n",
    "print ('lr_test_f1 ',lr_test_f1)"
   ]
  },
  {
   "cell_type": "code",
   "execution_count": null,
   "metadata": {
    "id": "8pG0DjTokj2u"
   },
   "outputs": [],
   "source": [
    "resultsDf = pd.DataFrame({'f1':lr_test_f1},index=['Logistic Regression'])\n",
    "resultsDf"
   ]
  },
  {
   "cell_type": "markdown",
   "metadata": {
    "id": "ebSaw8gRlF4V"
   },
   "source": [
    "Random Forest"
   ]
  },
  {
   "cell_type": "code",
   "execution_count": null,
   "metadata": {
    "id": "t-hum0xTlRWH"
   },
   "outputs": [],
   "source": [
    "param_grid_RF = {\n",
    "    'max_depth': [150,175,200],\n",
    "    'max_features': [40,50,60],\n",
    "    'min_samples_leaf': [100,150,200],\n",
    "    'min_samples_split': [100,150,200],\n",
    "    'n_estimators': [50,70] \n",
    "}"
   ]
  },
  {
   "cell_type": "code",
   "execution_count": 37,
   "metadata": {
    "id": "S_sPEPZfkzUi"
   },
   "outputs": [
    {
     "ename": "NameError",
     "evalue": "name 'param_grid_RF' is not defined",
     "output_type": "error",
     "traceback": [
      "\u001b[1;31m---------------------------------------------------------------------------\u001b[0m",
      "\u001b[1;31mNameError\u001b[0m                                 Traceback (most recent call last)",
      "\u001b[1;32m<ipython-input-37-c972d92ce156>\u001b[0m in \u001b[0;36m<module>\u001b[1;34m\u001b[0m\n\u001b[0;32m      1\u001b[0m \u001b[0mrfcl\u001b[0m \u001b[1;33m=\u001b[0m \u001b[0mRandomForestClassifier\u001b[0m\u001b[1;33m(\u001b[0m\u001b[0mrandom_state\u001b[0m\u001b[1;33m=\u001b[0m\u001b[1;36m42\u001b[0m\u001b[1;33m)\u001b[0m\u001b[1;33m\u001b[0m\u001b[1;33m\u001b[0m\u001b[0m\n\u001b[0;32m      2\u001b[0m \u001b[1;33m\u001b[0m\u001b[0m\n\u001b[1;32m----> 3\u001b[1;33m \u001b[0mrfcl\u001b[0m \u001b[1;33m=\u001b[0m \u001b[0mGridSearchCV\u001b[0m\u001b[1;33m(\u001b[0m\u001b[0mestimator\u001b[0m \u001b[1;33m=\u001b[0m \u001b[0mrfcl\u001b[0m\u001b[1;33m,\u001b[0m \u001b[0mparam_grid\u001b[0m \u001b[1;33m=\u001b[0m \u001b[0mparam_grid_RF\u001b[0m\u001b[1;33m,\u001b[0m \u001b[0mcv\u001b[0m \u001b[1;33m=\u001b[0m \u001b[1;36m3\u001b[0m\u001b[1;33m)\u001b[0m\u001b[1;33m\u001b[0m\u001b[1;33m\u001b[0m\u001b[0m\n\u001b[0m\u001b[0;32m      4\u001b[0m \u001b[0mrfcl\u001b[0m \u001b[1;33m=\u001b[0m \u001b[0mrfcl\u001b[0m\u001b[1;33m.\u001b[0m\u001b[0mfit\u001b[0m\u001b[1;33m(\u001b[0m\u001b[0mx_train\u001b[0m\u001b[1;33m,\u001b[0m \u001b[0my_train\u001b[0m\u001b[1;33m)\u001b[0m\u001b[1;33m\u001b[0m\u001b[1;33m\u001b[0m\u001b[0m\n",
      "\u001b[1;31mNameError\u001b[0m: name 'param_grid_RF' is not defined"
     ]
    }
   ],
   "source": [
    "rfcl = RandomForestClassifier(random_state=42)\n",
    "\n",
    "rfcl = GridSearchCV(estimator = rfcl, param_grid = param_grid_RF, cv = 3) \n",
    "rfcl = rfcl.fit(x_train, y_train)"
   ]
  },
  {
   "cell_type": "code",
   "execution_count": null,
   "metadata": {
    "id": "XUccn1gTlZ2N"
   },
   "outputs": [],
   "source": [
    "rfcl.best_params_"
   ]
  },
  {
   "cell_type": "code",
   "execution_count": null,
   "metadata": {
    "id": "GIcgnVHLlbz-"
   },
   "outputs": [],
   "source": [
    "rfcl = rfcl.best_estimator_"
   ]
  },
  {
   "cell_type": "code",
   "execution_count": null,
   "metadata": {
    "id": "ZJP0CdT6ltrs"
   },
   "outputs": [],
   "source": [
    "ytrain_predict = rfcl.predict(x_train)\n",
    "ytrain_predict"
   ]
  },
  {
   "cell_type": "code",
   "execution_count": null,
   "metadata": {
    "id": "SoTdqVDfl_9F"
   },
   "outputs": [],
   "source": [
    "ytest_predict = rfcl.predict(x_test)\n",
    "ytest_predict"
   ]
  },
  {
   "cell_type": "code",
   "execution_count": null,
   "metadata": {
    "id": "bAhazrXwCuvQ"
   },
   "outputs": [],
   "source": [
    "print(classification_report(y_train, ytrain_predict),'\\n')"
   ]
  },
  {
   "cell_type": "code",
   "execution_count": null,
   "metadata": {
    "id": "u6KMHPhi_L56"
   },
   "outputs": [],
   "source": [
    "print(classification_report(y_test, ytest_predict),'\\n')"
   ]
  },
  {
   "cell_type": "code",
   "execution_count": null,
   "metadata": {
    "id": "vxs2kYyQlkXi"
   },
   "outputs": [],
   "source": [
    "rf_metrics=classification_report(y_test, ytest_predict,output_dict=True)\n",
    "dftra=pd.DataFrame(rf_metrics).transpose()\n",
    "rf_test_f1=round(dftra.loc[\"1.0\"][2],2)\n",
    "print ('rf_test_f1 ',rf_test_f1)"
   ]
  },
  {
   "cell_type": "markdown",
   "metadata": {
    "id": "bEuAkLtEAFIR"
   },
   "source": [
    "Decision Tree classifier\n"
   ]
  },
  {
   "cell_type": "code",
   "execution_count": null,
   "metadata": {
    "id": "voxN8Flk-gbE"
   },
   "outputs": [],
   "source": [
    "from sklearn.tree import DecisionTreeClassifier\n",
    "param_grid = {'max_features': ['auto', 'sqrt', 'log2'],\n",
    "              'ccp_alpha': [0.1, .01, .001],\n",
    "              'max_depth' : [5, 6, 7, 8, 9],\n",
    "              'criterion' :['gini', 'entropy']\n",
    "             }\n",
    "tree_clas = DecisionTreeClassifier(random_state=1024)\n",
    "grid_search = GridSearchCV(estimator=tree_clas, param_grid=param_grid, cv=5, verbose=True)\n",
    "grid_search.fit(x_train, y_train)"
   ]
  },
  {
   "cell_type": "code",
   "execution_count": null,
   "metadata": {
    "id": "UpCAO5J-A1Yo"
   },
   "outputs": [],
   "source": [
    "grid_search.best_params_"
   ]
  },
  {
   "cell_type": "code",
   "execution_count": null,
   "metadata": {
    "id": "gToyJNA3BVgN"
   },
   "outputs": [],
   "source": [
    "grid_search = grid_search.best_estimator_"
   ]
  },
  {
   "cell_type": "code",
   "execution_count": null,
   "metadata": {
    "id": "l1EnTUrsBbzz"
   },
   "outputs": [],
   "source": [
    "ytrain_predict = grid_search.predict(x_train)\n",
    "ytrain_predict"
   ]
  },
  {
   "cell_type": "code",
   "execution_count": null,
   "metadata": {
    "id": "fky4FHKuBgO5"
   },
   "outputs": [],
   "source": [
    "ytest_predict = grid_search.predict(x_test)\n",
    "ytest_predict"
   ]
  },
  {
   "cell_type": "code",
   "execution_count": null,
   "metadata": {
    "id": "99-46zWMCxdN"
   },
   "outputs": [],
   "source": [
    "print(classification_report(y_train, ytrain_predict),'\\n')"
   ]
  },
  {
   "cell_type": "code",
   "execution_count": null,
   "metadata": {
    "id": "XY3oC0sdBmpg"
   },
   "outputs": [],
   "source": [
    "print(classification_report(y_test, ytest_predict),'\\n')"
   ]
  },
  {
   "cell_type": "code",
   "execution_count": null,
   "metadata": {
    "id": "uRV8fbGPBzQS"
   },
   "outputs": [],
   "source": []
  }
 ],
 "metadata": {
  "colab": {
   "collapsed_sections": [],
   "name": "Untitled.ipynb",
   "provenance": []
  },
  "kernelspec": {
   "display_name": "Python 3",
   "language": "python",
   "name": "python3"
  },
  "language_info": {
   "codemirror_mode": {
    "name": "ipython",
    "version": 3
   },
   "file_extension": ".py",
   "mimetype": "text/x-python",
   "name": "python",
   "nbconvert_exporter": "python",
   "pygments_lexer": "ipython3",
   "version": "3.7.3"
  }
 },
 "nbformat": 4,
 "nbformat_minor": 1
}
